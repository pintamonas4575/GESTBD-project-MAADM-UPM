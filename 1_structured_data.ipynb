{
 "cells": [
  {
   "cell_type": "markdown",
   "metadata": {},
   "source": [
    "# PRÁCTICA 1: **DATOS ESTRUCTURADOS**\n",
    "\n",
    "**GRUPO:** GESTDB_2\n",
    "\n",
    "**MIEMBROS:** \n",
    "- JAIME ALVAREZ URUEÑA\n",
    "- ÁLVARO FRAILE CARMENA \n",
    "- ALEJANDRO MENDOZA MEDINA\n",
    "- JAVIER QUESADA PAJARES\n",
    "  \n",
    "----"
   ]
  },
  {
   "cell_type": "code",
   "execution_count": 1,
   "metadata": {},
   "outputs": [],
   "source": [
    "import pandas as pd\n",
    "import mariadb\n",
    "import psycopg2\n",
    "import sys\n",
    "import numpy as np"
   ]
  },
  {
   "cell_type": "markdown",
   "metadata": {},
   "source": [
    "Para esta práctica hemos seleccionado unas pocas tablas del siguiente dataset [**Formula 1 World Championship (1950 - 2024)**](https://www.kaggle.com/datasets/rohanrao/formula-1-world-championship-1950-2020?resource=download&select=drivers.csv). Tomaremos estas tablas y las pre-procesaremos ligeramente y las insertaremos sobre unos servicios de MariaDB y Postgre. Estos dos sistemas se unirán mediante un sistema de Hive para crear el Data Warehouse."
   ]
  },
  {
   "cell_type": "markdown",
   "metadata": {},
   "source": [
    "## Lectura de datos"
   ]
  },
  {
   "cell_type": "markdown",
   "metadata": {},
   "source": [
    "Vamos a leer los datos de los csvs usando pandas."
   ]
  },
  {
   "cell_type": "code",
   "execution_count": 2,
   "metadata": {},
   "outputs": [],
   "source": [
    "drivers = pd.read_csv(\"./data/structured/drivers.csv\")\n",
    "results = pd.read_csv(\"./data/structured/results.csv\")\n",
    "races = pd.read_csv(\"./data/structured/races.csv\")\n",
    "constructors = pd.read_csv(\"./data/structured/constructors.csv\")"
   ]
  },
  {
   "cell_type": "code",
   "execution_count": 3,
   "metadata": {},
   "outputs": [
    {
     "data": {
      "text/html": [
       "<div>\n",
       "<style scoped>\n",
       "    .dataframe tbody tr th:only-of-type {\n",
       "        vertical-align: middle;\n",
       "    }\n",
       "\n",
       "    .dataframe tbody tr th {\n",
       "        vertical-align: top;\n",
       "    }\n",
       "\n",
       "    .dataframe thead th {\n",
       "        text-align: right;\n",
       "    }\n",
       "</style>\n",
       "<table border=\"1\" class=\"dataframe\">\n",
       "  <thead>\n",
       "    <tr style=\"text-align: right;\">\n",
       "      <th></th>\n",
       "      <th>driverId</th>\n",
       "      <th>driverRef</th>\n",
       "      <th>number</th>\n",
       "      <th>code</th>\n",
       "      <th>forename</th>\n",
       "      <th>surname</th>\n",
       "      <th>dob</th>\n",
       "      <th>nationality</th>\n",
       "      <th>url</th>\n",
       "    </tr>\n",
       "  </thead>\n",
       "  <tbody>\n",
       "    <tr>\n",
       "      <th>0</th>\n",
       "      <td>1</td>\n",
       "      <td>hamilton</td>\n",
       "      <td>44</td>\n",
       "      <td>HAM</td>\n",
       "      <td>Lewis</td>\n",
       "      <td>Hamilton</td>\n",
       "      <td>1985-01-07</td>\n",
       "      <td>British</td>\n",
       "      <td>http://en.wikipedia.org/wiki/Lewis_Hamilton</td>\n",
       "    </tr>\n",
       "    <tr>\n",
       "      <th>1</th>\n",
       "      <td>2</td>\n",
       "      <td>heidfeld</td>\n",
       "      <td>\\N</td>\n",
       "      <td>HEI</td>\n",
       "      <td>Nick</td>\n",
       "      <td>Heidfeld</td>\n",
       "      <td>1977-05-10</td>\n",
       "      <td>German</td>\n",
       "      <td>http://en.wikipedia.org/wiki/Nick_Heidfeld</td>\n",
       "    </tr>\n",
       "    <tr>\n",
       "      <th>2</th>\n",
       "      <td>3</td>\n",
       "      <td>rosberg</td>\n",
       "      <td>6</td>\n",
       "      <td>ROS</td>\n",
       "      <td>Nico</td>\n",
       "      <td>Rosberg</td>\n",
       "      <td>1985-06-27</td>\n",
       "      <td>German</td>\n",
       "      <td>http://en.wikipedia.org/wiki/Nico_Rosberg</td>\n",
       "    </tr>\n",
       "    <tr>\n",
       "      <th>3</th>\n",
       "      <td>4</td>\n",
       "      <td>alonso</td>\n",
       "      <td>14</td>\n",
       "      <td>ALO</td>\n",
       "      <td>Fernando</td>\n",
       "      <td>Alonso</td>\n",
       "      <td>1981-07-29</td>\n",
       "      <td>Spanish</td>\n",
       "      <td>http://en.wikipedia.org/wiki/Fernando_Alonso</td>\n",
       "    </tr>\n",
       "    <tr>\n",
       "      <th>4</th>\n",
       "      <td>5</td>\n",
       "      <td>kovalainen</td>\n",
       "      <td>\\N</td>\n",
       "      <td>KOV</td>\n",
       "      <td>Heikki</td>\n",
       "      <td>Kovalainen</td>\n",
       "      <td>1981-10-19</td>\n",
       "      <td>Finnish</td>\n",
       "      <td>http://en.wikipedia.org/wiki/Heikki_Kovalainen</td>\n",
       "    </tr>\n",
       "  </tbody>\n",
       "</table>\n",
       "</div>"
      ],
      "text/plain": [
       "   driverId   driverRef number code  forename     surname         dob  \\\n",
       "0         1    hamilton     44  HAM     Lewis    Hamilton  1985-01-07   \n",
       "1         2    heidfeld     \\N  HEI      Nick    Heidfeld  1977-05-10   \n",
       "2         3     rosberg      6  ROS      Nico     Rosberg  1985-06-27   \n",
       "3         4      alonso     14  ALO  Fernando      Alonso  1981-07-29   \n",
       "4         5  kovalainen     \\N  KOV    Heikki  Kovalainen  1981-10-19   \n",
       "\n",
       "  nationality                                             url  \n",
       "0     British     http://en.wikipedia.org/wiki/Lewis_Hamilton  \n",
       "1      German      http://en.wikipedia.org/wiki/Nick_Heidfeld  \n",
       "2      German       http://en.wikipedia.org/wiki/Nico_Rosberg  \n",
       "3     Spanish    http://en.wikipedia.org/wiki/Fernando_Alonso  \n",
       "4     Finnish  http://en.wikipedia.org/wiki/Heikki_Kovalainen  "
      ]
     },
     "execution_count": 3,
     "metadata": {},
     "output_type": "execute_result"
    }
   ],
   "source": [
    "drivers.head()"
   ]
  },
  {
   "cell_type": "code",
   "execution_count": 4,
   "metadata": {},
   "outputs": [
    {
     "data": {
      "text/html": [
       "<div>\n",
       "<style scoped>\n",
       "    .dataframe tbody tr th:only-of-type {\n",
       "        vertical-align: middle;\n",
       "    }\n",
       "\n",
       "    .dataframe tbody tr th {\n",
       "        vertical-align: top;\n",
       "    }\n",
       "\n",
       "    .dataframe thead th {\n",
       "        text-align: right;\n",
       "    }\n",
       "</style>\n",
       "<table border=\"1\" class=\"dataframe\">\n",
       "  <thead>\n",
       "    <tr style=\"text-align: right;\">\n",
       "      <th></th>\n",
       "      <th>resultId</th>\n",
       "      <th>raceId</th>\n",
       "      <th>driverId</th>\n",
       "      <th>constructorId</th>\n",
       "      <th>number</th>\n",
       "      <th>grid</th>\n",
       "      <th>position</th>\n",
       "      <th>positionText</th>\n",
       "      <th>positionOrder</th>\n",
       "      <th>points</th>\n",
       "      <th>laps</th>\n",
       "      <th>time</th>\n",
       "      <th>milliseconds</th>\n",
       "      <th>fastestLap</th>\n",
       "      <th>rank</th>\n",
       "      <th>fastestLapTime</th>\n",
       "      <th>fastestLapSpeed</th>\n",
       "      <th>statusId</th>\n",
       "    </tr>\n",
       "  </thead>\n",
       "  <tbody>\n",
       "    <tr>\n",
       "      <th>0</th>\n",
       "      <td>1</td>\n",
       "      <td>18</td>\n",
       "      <td>1</td>\n",
       "      <td>1</td>\n",
       "      <td>22</td>\n",
       "      <td>1</td>\n",
       "      <td>1</td>\n",
       "      <td>1</td>\n",
       "      <td>1</td>\n",
       "      <td>10.0</td>\n",
       "      <td>58</td>\n",
       "      <td>1:34:50.616</td>\n",
       "      <td>5690616</td>\n",
       "      <td>39</td>\n",
       "      <td>2</td>\n",
       "      <td>1:27.452</td>\n",
       "      <td>218.300</td>\n",
       "      <td>1</td>\n",
       "    </tr>\n",
       "    <tr>\n",
       "      <th>1</th>\n",
       "      <td>2</td>\n",
       "      <td>18</td>\n",
       "      <td>2</td>\n",
       "      <td>2</td>\n",
       "      <td>3</td>\n",
       "      <td>5</td>\n",
       "      <td>2</td>\n",
       "      <td>2</td>\n",
       "      <td>2</td>\n",
       "      <td>8.0</td>\n",
       "      <td>58</td>\n",
       "      <td>+5.478</td>\n",
       "      <td>5696094</td>\n",
       "      <td>41</td>\n",
       "      <td>3</td>\n",
       "      <td>1:27.739</td>\n",
       "      <td>217.586</td>\n",
       "      <td>1</td>\n",
       "    </tr>\n",
       "    <tr>\n",
       "      <th>2</th>\n",
       "      <td>3</td>\n",
       "      <td>18</td>\n",
       "      <td>3</td>\n",
       "      <td>3</td>\n",
       "      <td>7</td>\n",
       "      <td>7</td>\n",
       "      <td>3</td>\n",
       "      <td>3</td>\n",
       "      <td>3</td>\n",
       "      <td>6.0</td>\n",
       "      <td>58</td>\n",
       "      <td>+8.163</td>\n",
       "      <td>5698779</td>\n",
       "      <td>41</td>\n",
       "      <td>5</td>\n",
       "      <td>1:28.090</td>\n",
       "      <td>216.719</td>\n",
       "      <td>1</td>\n",
       "    </tr>\n",
       "    <tr>\n",
       "      <th>3</th>\n",
       "      <td>4</td>\n",
       "      <td>18</td>\n",
       "      <td>4</td>\n",
       "      <td>4</td>\n",
       "      <td>5</td>\n",
       "      <td>11</td>\n",
       "      <td>4</td>\n",
       "      <td>4</td>\n",
       "      <td>4</td>\n",
       "      <td>5.0</td>\n",
       "      <td>58</td>\n",
       "      <td>+17.181</td>\n",
       "      <td>5707797</td>\n",
       "      <td>58</td>\n",
       "      <td>7</td>\n",
       "      <td>1:28.603</td>\n",
       "      <td>215.464</td>\n",
       "      <td>1</td>\n",
       "    </tr>\n",
       "    <tr>\n",
       "      <th>4</th>\n",
       "      <td>5</td>\n",
       "      <td>18</td>\n",
       "      <td>5</td>\n",
       "      <td>1</td>\n",
       "      <td>23</td>\n",
       "      <td>3</td>\n",
       "      <td>5</td>\n",
       "      <td>5</td>\n",
       "      <td>5</td>\n",
       "      <td>4.0</td>\n",
       "      <td>58</td>\n",
       "      <td>+18.014</td>\n",
       "      <td>5708630</td>\n",
       "      <td>43</td>\n",
       "      <td>1</td>\n",
       "      <td>1:27.418</td>\n",
       "      <td>218.385</td>\n",
       "      <td>1</td>\n",
       "    </tr>\n",
       "  </tbody>\n",
       "</table>\n",
       "</div>"
      ],
      "text/plain": [
       "   resultId  raceId  driverId  constructorId number  grid position  \\\n",
       "0         1      18         1              1     22     1        1   \n",
       "1         2      18         2              2      3     5        2   \n",
       "2         3      18         3              3      7     7        3   \n",
       "3         4      18         4              4      5    11        4   \n",
       "4         5      18         5              1     23     3        5   \n",
       "\n",
       "  positionText  positionOrder  points  laps         time milliseconds  \\\n",
       "0            1              1    10.0    58  1:34:50.616      5690616   \n",
       "1            2              2     8.0    58       +5.478      5696094   \n",
       "2            3              3     6.0    58       +8.163      5698779   \n",
       "3            4              4     5.0    58      +17.181      5707797   \n",
       "4            5              5     4.0    58      +18.014      5708630   \n",
       "\n",
       "  fastestLap rank fastestLapTime fastestLapSpeed  statusId  \n",
       "0         39    2       1:27.452         218.300         1  \n",
       "1         41    3       1:27.739         217.586         1  \n",
       "2         41    5       1:28.090         216.719         1  \n",
       "3         58    7       1:28.603         215.464         1  \n",
       "4         43    1       1:27.418         218.385         1  "
      ]
     },
     "execution_count": 4,
     "metadata": {},
     "output_type": "execute_result"
    }
   ],
   "source": [
    "results.head()"
   ]
  },
  {
   "cell_type": "code",
   "execution_count": 5,
   "metadata": {},
   "outputs": [
    {
     "data": {
      "text/html": [
       "<div>\n",
       "<style scoped>\n",
       "    .dataframe tbody tr th:only-of-type {\n",
       "        vertical-align: middle;\n",
       "    }\n",
       "\n",
       "    .dataframe tbody tr th {\n",
       "        vertical-align: top;\n",
       "    }\n",
       "\n",
       "    .dataframe thead th {\n",
       "        text-align: right;\n",
       "    }\n",
       "</style>\n",
       "<table border=\"1\" class=\"dataframe\">\n",
       "  <thead>\n",
       "    <tr style=\"text-align: right;\">\n",
       "      <th></th>\n",
       "      <th>raceId</th>\n",
       "      <th>year</th>\n",
       "      <th>round</th>\n",
       "      <th>circuitId</th>\n",
       "      <th>name</th>\n",
       "      <th>date</th>\n",
       "      <th>time</th>\n",
       "      <th>url</th>\n",
       "      <th>fp1_date</th>\n",
       "      <th>fp1_time</th>\n",
       "      <th>fp2_date</th>\n",
       "      <th>fp2_time</th>\n",
       "      <th>fp3_date</th>\n",
       "      <th>fp3_time</th>\n",
       "      <th>quali_date</th>\n",
       "      <th>quali_time</th>\n",
       "      <th>sprint_date</th>\n",
       "      <th>sprint_time</th>\n",
       "    </tr>\n",
       "  </thead>\n",
       "  <tbody>\n",
       "    <tr>\n",
       "      <th>0</th>\n",
       "      <td>1</td>\n",
       "      <td>2009</td>\n",
       "      <td>1</td>\n",
       "      <td>1</td>\n",
       "      <td>Australian Grand Prix</td>\n",
       "      <td>2009-03-29</td>\n",
       "      <td>06:00:00</td>\n",
       "      <td>http://en.wikipedia.org/wiki/2009_Australian_G...</td>\n",
       "      <td>\\N</td>\n",
       "      <td>\\N</td>\n",
       "      <td>\\N</td>\n",
       "      <td>\\N</td>\n",
       "      <td>\\N</td>\n",
       "      <td>\\N</td>\n",
       "      <td>\\N</td>\n",
       "      <td>\\N</td>\n",
       "      <td>\\N</td>\n",
       "      <td>\\N</td>\n",
       "    </tr>\n",
       "    <tr>\n",
       "      <th>1</th>\n",
       "      <td>2</td>\n",
       "      <td>2009</td>\n",
       "      <td>2</td>\n",
       "      <td>2</td>\n",
       "      <td>Malaysian Grand Prix</td>\n",
       "      <td>2009-04-05</td>\n",
       "      <td>09:00:00</td>\n",
       "      <td>http://en.wikipedia.org/wiki/2009_Malaysian_Gr...</td>\n",
       "      <td>\\N</td>\n",
       "      <td>\\N</td>\n",
       "      <td>\\N</td>\n",
       "      <td>\\N</td>\n",
       "      <td>\\N</td>\n",
       "      <td>\\N</td>\n",
       "      <td>\\N</td>\n",
       "      <td>\\N</td>\n",
       "      <td>\\N</td>\n",
       "      <td>\\N</td>\n",
       "    </tr>\n",
       "    <tr>\n",
       "      <th>2</th>\n",
       "      <td>3</td>\n",
       "      <td>2009</td>\n",
       "      <td>3</td>\n",
       "      <td>17</td>\n",
       "      <td>Chinese Grand Prix</td>\n",
       "      <td>2009-04-19</td>\n",
       "      <td>07:00:00</td>\n",
       "      <td>http://en.wikipedia.org/wiki/2009_Chinese_Gran...</td>\n",
       "      <td>\\N</td>\n",
       "      <td>\\N</td>\n",
       "      <td>\\N</td>\n",
       "      <td>\\N</td>\n",
       "      <td>\\N</td>\n",
       "      <td>\\N</td>\n",
       "      <td>\\N</td>\n",
       "      <td>\\N</td>\n",
       "      <td>\\N</td>\n",
       "      <td>\\N</td>\n",
       "    </tr>\n",
       "    <tr>\n",
       "      <th>3</th>\n",
       "      <td>4</td>\n",
       "      <td>2009</td>\n",
       "      <td>4</td>\n",
       "      <td>3</td>\n",
       "      <td>Bahrain Grand Prix</td>\n",
       "      <td>2009-04-26</td>\n",
       "      <td>12:00:00</td>\n",
       "      <td>http://en.wikipedia.org/wiki/2009_Bahrain_Gran...</td>\n",
       "      <td>\\N</td>\n",
       "      <td>\\N</td>\n",
       "      <td>\\N</td>\n",
       "      <td>\\N</td>\n",
       "      <td>\\N</td>\n",
       "      <td>\\N</td>\n",
       "      <td>\\N</td>\n",
       "      <td>\\N</td>\n",
       "      <td>\\N</td>\n",
       "      <td>\\N</td>\n",
       "    </tr>\n",
       "    <tr>\n",
       "      <th>4</th>\n",
       "      <td>5</td>\n",
       "      <td>2009</td>\n",
       "      <td>5</td>\n",
       "      <td>4</td>\n",
       "      <td>Spanish Grand Prix</td>\n",
       "      <td>2009-05-10</td>\n",
       "      <td>12:00:00</td>\n",
       "      <td>http://en.wikipedia.org/wiki/2009_Spanish_Gran...</td>\n",
       "      <td>\\N</td>\n",
       "      <td>\\N</td>\n",
       "      <td>\\N</td>\n",
       "      <td>\\N</td>\n",
       "      <td>\\N</td>\n",
       "      <td>\\N</td>\n",
       "      <td>\\N</td>\n",
       "      <td>\\N</td>\n",
       "      <td>\\N</td>\n",
       "      <td>\\N</td>\n",
       "    </tr>\n",
       "  </tbody>\n",
       "</table>\n",
       "</div>"
      ],
      "text/plain": [
       "   raceId  year  round  circuitId                   name        date  \\\n",
       "0       1  2009      1          1  Australian Grand Prix  2009-03-29   \n",
       "1       2  2009      2          2   Malaysian Grand Prix  2009-04-05   \n",
       "2       3  2009      3         17     Chinese Grand Prix  2009-04-19   \n",
       "3       4  2009      4          3     Bahrain Grand Prix  2009-04-26   \n",
       "4       5  2009      5          4     Spanish Grand Prix  2009-05-10   \n",
       "\n",
       "       time                                                url fp1_date  \\\n",
       "0  06:00:00  http://en.wikipedia.org/wiki/2009_Australian_G...       \\N   \n",
       "1  09:00:00  http://en.wikipedia.org/wiki/2009_Malaysian_Gr...       \\N   \n",
       "2  07:00:00  http://en.wikipedia.org/wiki/2009_Chinese_Gran...       \\N   \n",
       "3  12:00:00  http://en.wikipedia.org/wiki/2009_Bahrain_Gran...       \\N   \n",
       "4  12:00:00  http://en.wikipedia.org/wiki/2009_Spanish_Gran...       \\N   \n",
       "\n",
       "  fp1_time fp2_date fp2_time fp3_date fp3_time quali_date quali_time  \\\n",
       "0       \\N       \\N       \\N       \\N       \\N         \\N         \\N   \n",
       "1       \\N       \\N       \\N       \\N       \\N         \\N         \\N   \n",
       "2       \\N       \\N       \\N       \\N       \\N         \\N         \\N   \n",
       "3       \\N       \\N       \\N       \\N       \\N         \\N         \\N   \n",
       "4       \\N       \\N       \\N       \\N       \\N         \\N         \\N   \n",
       "\n",
       "  sprint_date sprint_time  \n",
       "0          \\N          \\N  \n",
       "1          \\N          \\N  \n",
       "2          \\N          \\N  \n",
       "3          \\N          \\N  \n",
       "4          \\N          \\N  "
      ]
     },
     "execution_count": 5,
     "metadata": {},
     "output_type": "execute_result"
    }
   ],
   "source": [
    "races.head()"
   ]
  },
  {
   "cell_type": "code",
   "execution_count": 6,
   "metadata": {},
   "outputs": [
    {
     "data": {
      "text/html": [
       "<div>\n",
       "<style scoped>\n",
       "    .dataframe tbody tr th:only-of-type {\n",
       "        vertical-align: middle;\n",
       "    }\n",
       "\n",
       "    .dataframe tbody tr th {\n",
       "        vertical-align: top;\n",
       "    }\n",
       "\n",
       "    .dataframe thead th {\n",
       "        text-align: right;\n",
       "    }\n",
       "</style>\n",
       "<table border=\"1\" class=\"dataframe\">\n",
       "  <thead>\n",
       "    <tr style=\"text-align: right;\">\n",
       "      <th></th>\n",
       "      <th>constructorId</th>\n",
       "      <th>constructorRef</th>\n",
       "      <th>name</th>\n",
       "      <th>nationality</th>\n",
       "      <th>url</th>\n",
       "    </tr>\n",
       "  </thead>\n",
       "  <tbody>\n",
       "    <tr>\n",
       "      <th>0</th>\n",
       "      <td>1</td>\n",
       "      <td>mclaren</td>\n",
       "      <td>McLaren</td>\n",
       "      <td>British</td>\n",
       "      <td>http://en.wikipedia.org/wiki/McLaren</td>\n",
       "    </tr>\n",
       "    <tr>\n",
       "      <th>1</th>\n",
       "      <td>2</td>\n",
       "      <td>bmw_sauber</td>\n",
       "      <td>BMW Sauber</td>\n",
       "      <td>German</td>\n",
       "      <td>http://en.wikipedia.org/wiki/BMW_Sauber</td>\n",
       "    </tr>\n",
       "    <tr>\n",
       "      <th>2</th>\n",
       "      <td>3</td>\n",
       "      <td>williams</td>\n",
       "      <td>Williams</td>\n",
       "      <td>British</td>\n",
       "      <td>http://en.wikipedia.org/wiki/Williams_Grand_Pr...</td>\n",
       "    </tr>\n",
       "    <tr>\n",
       "      <th>3</th>\n",
       "      <td>4</td>\n",
       "      <td>renault</td>\n",
       "      <td>Renault</td>\n",
       "      <td>French</td>\n",
       "      <td>http://en.wikipedia.org/wiki/Renault_in_Formul...</td>\n",
       "    </tr>\n",
       "    <tr>\n",
       "      <th>4</th>\n",
       "      <td>5</td>\n",
       "      <td>toro_rosso</td>\n",
       "      <td>Toro Rosso</td>\n",
       "      <td>Italian</td>\n",
       "      <td>http://en.wikipedia.org/wiki/Scuderia_Toro_Rosso</td>\n",
       "    </tr>\n",
       "  </tbody>\n",
       "</table>\n",
       "</div>"
      ],
      "text/plain": [
       "   constructorId constructorRef        name nationality  \\\n",
       "0              1        mclaren     McLaren     British   \n",
       "1              2     bmw_sauber  BMW Sauber      German   \n",
       "2              3       williams    Williams     British   \n",
       "3              4        renault     Renault      French   \n",
       "4              5     toro_rosso  Toro Rosso     Italian   \n",
       "\n",
       "                                                 url  \n",
       "0               http://en.wikipedia.org/wiki/McLaren  \n",
       "1            http://en.wikipedia.org/wiki/BMW_Sauber  \n",
       "2  http://en.wikipedia.org/wiki/Williams_Grand_Pr...  \n",
       "3  http://en.wikipedia.org/wiki/Renault_in_Formul...  \n",
       "4   http://en.wikipedia.org/wiki/Scuderia_Toro_Rosso  "
      ]
     },
     "execution_count": 6,
     "metadata": {},
     "output_type": "execute_result"
    }
   ],
   "source": [
    "constructors.head()"
   ]
  },
  {
   "cell_type": "markdown",
   "metadata": {},
   "source": [
    "Para algunos datos tendremos que hacer algún ligero preprocesamiento sobre el formato."
   ]
  },
  {
   "cell_type": "code",
   "execution_count": 7,
   "metadata": {},
   "outputs": [],
   "source": [
    "# Reemplazar valores nulos o no válidos ('\\N') con NaN y luego con None\n",
    "results.replace(r'\\\\N', np.nan, regex=True, inplace=True)\n",
    "results.fillna(value=0, inplace=True)\n",
    "\n",
    "drivers.replace(r'\\\\N', np.nan, regex=True, inplace=True)\n",
    "drivers.fillna(value=0, inplace=True)"
   ]
  },
  {
   "cell_type": "code",
   "execution_count": 8,
   "metadata": {},
   "outputs": [],
   "source": [
    "# Convertir la columna 'fastestlapspeed' (u otras columnas) a un formato numérico sin comillas\n",
    "results['fastestLapSpeed'] = results['fastestLapSpeed'].replace({r'\"': ''}, regex=True).astype(float)\n",
    "\n",
    "# Guardar el archivo limpio\n",
    "results.to_csv('./data/structured/results_cleaned.csv', index=False)"
   ]
  },
  {
   "cell_type": "markdown",
   "metadata": {},
   "source": [
    "## Inserción en MariaDB"
   ]
  },
  {
   "cell_type": "markdown",
   "metadata": {},
   "source": [
    "Vamos a insertar una parte de los datos en MariaDB."
   ]
  },
  {
   "cell_type": "markdown",
   "metadata": {},
   "source": [
    "<div class=\"alert alert-block alert-info\"> \n",
    "<b>NOTA</b> Para esta sección será necesario tener levantado el contenedor de Docker de MariaDB.\n",
    "</div>"
   ]
  },
  {
   "cell_type": "code",
   "execution_count": 9,
   "metadata": {},
   "outputs": [
    {
     "name": "stdout",
     "output_type": "stream",
     "text": [
      "Succesfully connected to MariaDB on localhost:3307\n"
     ]
    }
   ],
   "source": [
    "host = \"localhost\"\n",
    "port = 3307\n",
    "\n",
    "# Connect to MariaDB Platform\n",
    "try:\n",
    "    conn = mariadb.connect(\n",
    "        user=\"root\",\n",
    "        password=\"my_password\",\n",
    "        host=host,\n",
    "        port=port\n",
    "    )\n",
    "\n",
    "    print(f\"Succesfully connected to MariaDB on {host}:{port}\")\n",
    "except mariadb.Error as e:\n",
    "    print(f\"Error connecting to MariaDB: {e}\")\n",
    "    sys.exit(1)\n",
    "\n",
    "# Create a cursor object \n",
    "cur  = conn.cursor() "
   ]
  },
  {
   "cell_type": "code",
   "execution_count": 10,
   "metadata": {},
   "outputs": [
    {
     "name": "stdout",
     "output_type": "stream",
     "text": [
      "[('F1_STRUCTURED_DATA',), ('information_schema',), ('my_mariadb_db',), ('mysql',), ('performance_schema',), ('sys',)]\n"
     ]
    }
   ],
   "source": [
    "# Creación de la bbdd\n",
    "cur.execute(\"CREATE DATABASE IF NOT EXISTS F1_STRUCTURED_DATA\")  \n",
    "  \n",
    "cur.execute(\"SHOW DATABASES\") \n",
    "databaseList = cur.fetchall() \n",
    "\n",
    "print(databaseList)\n",
    "\n",
    "# Seleccionar la base de datos\n",
    "cur.execute(\"USE F1_STRUCTURED_DATA\")"
   ]
  },
  {
   "cell_type": "code",
   "execution_count": 11,
   "metadata": {},
   "outputs": [
    {
     "name": "stdout",
     "output_type": "stream",
     "text": [
      "Tablas disponibles: [('constructors',), ('drivers',)]\n"
     ]
    }
   ],
   "source": [
    "# Crear tablas\n",
    "cur.execute(\"\"\"\n",
    "    CREATE TABLE IF NOT EXISTS drivers (\n",
    "        driverId INT  PRIMARY KEY,\n",
    "        driverRef VARCHAR(100),\n",
    "        number INT,\n",
    "        code VARCHAR(100),\n",
    "        forename VARCHAR(100),\n",
    "        surname VARCHAR(100),\n",
    "        dob DATE,\n",
    "        nationality VARCHAR(100),\n",
    "        url VARCHAR(100)\n",
    "    )\n",
    "    \"\"\")\n",
    "\n",
    "cur.execute(\"\"\"\n",
    "    CREATE TABLE IF NOT EXISTS constructors (\n",
    "        constructorId INT PRIMARY KEY,\n",
    "        constructorRef VARCHAR(50),\n",
    "        name VARCHAR(100),\n",
    "        nationality VARCHAR(50),\n",
    "        url VARCHAR(255)\n",
    "        )\n",
    "            \"\"\")\n",
    "\n",
    "\n",
    "# Verificar que la tabla fue creada\n",
    "cur.execute(\"SHOW TABLES\")\n",
    "tablesList = cur.fetchall()\n",
    "print(\"Tablas disponibles:\", tablesList)"
   ]
  },
  {
   "cell_type": "code",
   "execution_count": 12,
   "metadata": {},
   "outputs": [],
   "source": [
    "# Insertar los datos\n",
    "\n",
    "# Insertar los datos del CSV en la tabla\n",
    "# Suponiendo que ya tienes una conexión a la base de datos y un cursor (`cur`)\n",
    "for index, row in constructors.iterrows():\n",
    "    cur.execute('''\n",
    "        INSERT IGNORE INTO constructors (\n",
    "            constructorId, constructorRef, name, nationality, url\n",
    "        ) VALUES (?, ?, ?, ?, ?)\n",
    "    ''', (\n",
    "        row['constructorId'], row['constructorRef'], row['name'],\n",
    "        row['nationality'], row['url']\n",
    "    ))\n",
    "\n",
    "\n",
    "for index, row in drivers.iterrows():\n",
    "    cur.execute('''\n",
    "        INSERT IGNORE INTO drivers (\n",
    "            driverId, driverRef, number, code, forename, surname, dob, nationality, url\n",
    "        ) VALUES (?, ?, ?, ?, ?, ?, ?, ?, ?)\n",
    "    ''', (\n",
    "        row['driverId'], row['driverRef'], row['number'] if row['number'] != 0 else None,\n",
    "        row['code'], row['forename'], row['surname'], row['dob'],\n",
    "        row['nationality'], row['url']\n",
    "    ))\n",
    "\n",
    "conn.commit()"
   ]
  },
  {
   "cell_type": "code",
   "execution_count": 13,
   "metadata": {},
   "outputs": [],
   "source": [
    "conn.close()"
   ]
  },
  {
   "cell_type": "markdown",
   "metadata": {},
   "source": [
    "## Inserción en Postgre"
   ]
  },
  {
   "cell_type": "markdown",
   "metadata": {},
   "source": [
    "El resto de datos será insertado en Postgre."
   ]
  },
  {
   "cell_type": "markdown",
   "metadata": {},
   "source": [
    "<div class=\"alert alert-block alert-info\"> \n",
    "<b>NOTA</b> Para esta sección será necesario tener levantado el contenedor de Docker de Postgre.\n",
    "</div>"
   ]
  },
  {
   "cell_type": "code",
   "execution_count": 22,
   "metadata": {},
   "outputs": [
    {
     "name": "stdout",
     "output_type": "stream",
     "text": [
      "Succesfully connected\n"
     ]
    }
   ],
   "source": [
    "# Connect to Postgre\n",
    "try:\n",
    "    conn = psycopg2.connect(dbname=\"postgres\",\n",
    "                        host=\"localhost\",\n",
    "                        user=\"hive\",\n",
    "                        password=\"password\",\n",
    "                        port=\"5432\")\n",
    "    print(f\"Succesfully connected\")\n",
    "except Exception as e:\n",
    "    print(f\"Error connecting: {e}\")\n",
    "    sys.exit(1)\n",
    "\n",
    "conn.autocommit = True  # Deshabilitar transacciones automáticas\n",
    "\n",
    "# Create a cursor object \n",
    "cur  = conn.cursor() "
   ]
  },
  {
   "cell_type": "code",
   "execution_count": 15,
   "metadata": {},
   "outputs": [],
   "source": [
    "from psycopg2 import sql"
   ]
  },
  {
   "cell_type": "code",
   "execution_count": 16,
   "metadata": {},
   "outputs": [],
   "source": [
    "# Nombre de la nueva base de datos\n",
    "nombre_db = \"F1_STRUCTURED_DATA_POSTGRE\""
   ]
  },
  {
   "cell_type": "code",
   "execution_count": 24,
   "metadata": {},
   "outputs": [],
   "source": [
    "# Comando SQL para crear la base de datos\n",
    "cur.execute(sql.SQL(\"CREATE DATABASE {}\").format(sql.Identifier(nombre_db)))\n",
    "\n",
    "# Confirma los cambios\n",
    "conn.commit()\n",
    "\n",
    "# Dará error si se intenta crear la base de datos dos veces\n",
    "cur.close()\n",
    "conn.close()"
   ]
  },
  {
   "cell_type": "code",
   "execution_count": 25,
   "metadata": {},
   "outputs": [
    {
     "name": "stdout",
     "output_type": "stream",
     "text": [
      "Succesfully connected\n"
     ]
    }
   ],
   "source": [
    "# Connect to Postgre but on the creared database\n",
    "try:\n",
    "    conn = psycopg2.connect(dbname=nombre_db,\n",
    "                        host=\"localhost\",\n",
    "                        user=\"hive\",\n",
    "                        password=\"password\",\n",
    "                        port=\"5432\")\n",
    "    print(f\"Succesfully connected\")\n",
    "except Exception as e:\n",
    "    print(f\"Error connecting: {e}\")\n",
    "    sys.exit(1)\n",
    "\n",
    "conn.autocommit = True  # Deshabilitar transacciones automáticas\n",
    "\n",
    "# Create a cursor object \n",
    "cur  = conn.cursor() "
   ]
  },
  {
   "cell_type": "code",
   "execution_count": 26,
   "metadata": {},
   "outputs": [],
   "source": [
    "# Crear la tabla races\n",
    "cur.execute(\"\"\"\n",
    "    CREATE TABLE races (\n",
    "        raceId INTEGER PRIMARY KEY,\n",
    "        year INTEGER,\n",
    "        round INTEGER,\n",
    "        circuitId INTEGER,\n",
    "        name TEXT,\n",
    "        date DATE,\n",
    "        time TIME,\n",
    "        url TEXT,\n",
    "        fp1_date DATE,\n",
    "        fp1_time TIME,\n",
    "        fp2_date DATE,\n",
    "        fp2_time TIME,\n",
    "        fp3_date DATE,\n",
    "        fp3_time TIME,\n",
    "        quali_date DATE,\n",
    "        quali_time TIME,\n",
    "        sprint_date DATE,\n",
    "        sprint_time TIME\n",
    "    );\n",
    "\"\"\")\n"
   ]
  },
  {
   "cell_type": "code",
   "execution_count": 27,
   "metadata": {},
   "outputs": [],
   "source": [
    "# Leer y subir el archivo CSV\n",
    "with open('./data/structured/races.csv', 'r') as f:\n",
    "    # Omitir la cabecera\n",
    "    next(f)\n",
    "    # Insertar datos directamente\n",
    "    cur.copy_from(f, 'races', sep=',')\n",
    "\n",
    "# Confirmar los cambios\n",
    "conn.commit()\n"
   ]
  },
  {
   "cell_type": "code",
   "execution_count": 28,
   "metadata": {},
   "outputs": [],
   "source": [
    "# Crear la tabla results\n",
    "cur.execute(\"\"\"\n",
    "    CREATE TABLE results (\n",
    "        resultId INTEGER PRIMARY KEY,\n",
    "        raceId INTEGER,\n",
    "        driverId INTEGER,\n",
    "        constructorId INTEGER,\n",
    "        number TEXT,\n",
    "        grid INTEGER,\n",
    "        position INTEGER,\n",
    "        positionText TEXT,\n",
    "        positionOrder INTEGER,\n",
    "        points NUMERIC,\n",
    "        laps INTEGER,\n",
    "        time TEXT,\n",
    "        milliseconds INTEGER,\n",
    "        fastestLap INTEGER,\n",
    "        rank INTEGER,\n",
    "        fastestLapTime TEXT,\n",
    "        fastestLapSpeed NUMERIC,\n",
    "        statusId INTEGER\n",
    "    );\n",
    "\"\"\")"
   ]
  },
  {
   "cell_type": "code",
   "execution_count": 29,
   "metadata": {},
   "outputs": [],
   "source": [
    "# Leer y subir el archivo CSV\n",
    "with open('./data/structured/results_cleaned.csv', 'r') as f:\n",
    "    # Omitir la cabecera\n",
    "    next(f)\n",
    "    # Insertar datos directamente\n",
    "    cur.copy_from(f, 'results', sep=',')\n",
    "\n",
    "# Confirmar los cambios\n",
    "conn.commit()"
   ]
  },
  {
   "cell_type": "code",
   "execution_count": 30,
   "metadata": {},
   "outputs": [],
   "source": [
    "cur.close()\n",
    "conn.close()"
   ]
  },
  {
   "cell_type": "markdown",
   "metadata": {},
   "source": [
    "## Configuración con Hive"
   ]
  },
  {
   "cell_type": "markdown",
   "metadata": {},
   "source": [
    "Ahora tenemos que configurar las tablas que hemos creado en MariaDB y Postgre para poder acceder a ellas a través de Hive."
   ]
  },
  {
   "cell_type": "markdown",
   "metadata": {},
   "source": [
    "<div class=\"alert alert-block alert-info\"> \n",
    "<b>NOTA</b> Para esta sección será necesario tener levantado el contenedor de Docker de Hive.\n",
    "</div>"
   ]
  },
  {
   "cell_type": "code",
   "execution_count": 31,
   "metadata": {},
   "outputs": [],
   "source": [
    "from pyhive import hive\n",
    "conn = hive.Connection(host=\"localhost\", username=\"hive\", database=\"f1_hive\")\n",
    "cursor = conn.cursor()"
   ]
  },
  {
   "cell_type": "code",
   "execution_count": 33,
   "metadata": {},
   "outputs": [],
   "source": [
    "# TABLA DRIVERS\n",
    "\n",
    "cursor.execute('''\n",
    "CREATE EXTERNAL TABLE IF NOT EXISTS hive_drivers (\n",
    "    driverId INT,\n",
    "    driverRef STRING,\n",
    "    number INT,\n",
    "    code STRING,\n",
    "    forename STRING,\n",
    "    surname STRING,\n",
    "    dob DATE,\n",
    "    nationality STRING,\n",
    "    url STRING\n",
    ")\n",
    "STORED BY 'org.apache.hive.storage.jdbc.JdbcStorageHandler'\n",
    "TBLPROPERTIES (\n",
    "  \"hive.sql.database.type\" = \"MYSQL\",\n",
    "  \"hive.sql.jdbc.url\" = \"jdbc:mariadb://hive4-mariadb:3306/F1_STRUCTURED_DATA\",\n",
    "  \"hive.sql.dbcp.username\" = \"root\",\n",
    "  \"hive.sql.dbcp.password\" = \"my_password\",\n",
    "  \"hive.sql.jdbc.driver\" = \"org.mariadb.jdbc.Driver\",\n",
    "  \"hive.sql.table\" = \"drivers\"\n",
    ")\n",
    "\n",
    "               ''')"
   ]
  },
  {
   "cell_type": "code",
   "execution_count": 34,
   "metadata": {},
   "outputs": [],
   "source": [
    "# TABLA CONSTRUCTORS\n",
    "\n",
    "cursor.execute('''\n",
    "CREATE EXTERNAL TABLE IF NOT EXISTS hive_constructors (\n",
    "    constructorId INT,\n",
    "    constructorRef STRING,\n",
    "    name STRING,\n",
    "    nationality STRING,\n",
    "    url STRING\n",
    ")\n",
    "STORED BY 'org.apache.hive.storage.jdbc.JdbcStorageHandler'\n",
    "TBLPROPERTIES (\n",
    "  \"hive.sql.database.type\" = \"MYSQL\",\n",
    "  \"hive.sql.jdbc.url\" = \"jdbc:mariadb://hive4-mariadb:3306/F1_STRUCTURED_DATA\",\n",
    "  \"hive.sql.dbcp.username\" = \"root\",\n",
    "  \"hive.sql.dbcp.password\" = \"my_password\",\n",
    "  \"hive.sql.jdbc.driver\" = \"org.mariadb.jdbc.Driver\",\n",
    "  \"hive.sql.table\" = \"constructors\"\n",
    ")\n",
    "\n",
    "               ''')"
   ]
  },
  {
   "cell_type": "code",
   "execution_count": 35,
   "metadata": {},
   "outputs": [],
   "source": [
    "# TABLA RESULTS\n",
    "\n",
    "cursor.execute('''\n",
    "CREATE EXTERNAL TABLE IF NOT EXISTS hive_results (\n",
    "    resultId INTEGER,\n",
    "    raceId INTEGER,\n",
    "    driverId INTEGER,\n",
    "    constructorId INTEGER,\n",
    "    number STRING,\n",
    "    grid INTEGER,\n",
    "    position INTEGER,\n",
    "    positionText STRING,\n",
    "    positionOrder INTEGER,\n",
    "    points INTEGER,\n",
    "    laps INTEGER,\n",
    "    `time` STRING,          -- 'time' entre comillas invertidas\n",
    "    miliseconds INTEGER,\n",
    "    fastestLap INTEGER,\n",
    "    `rank` INTEGER,         -- 'rank' entre comillas invertidas\n",
    "    fastestLapTime STRING,\n",
    "    fastestLapSpeed NUMERIC,\n",
    "    statusId INTEGER\n",
    ")\n",
    "STORED BY 'org.apache.hive.storage.jdbc.JdbcStorageHandler'\n",
    "TBLPROPERTIES (\n",
    "  \"hive.sql.database.type\" = \"POSTGRES\",\n",
    "  \"hive.sql.jdbc.url\" = \"jdbc:postgresql://hive4-postgres:5432/F1_STRUCTURED_DATA_POSTGRE\",\n",
    "  \"hive.sql.dbcp.username\" = \"hive\",\n",
    "  \"hive.sql.dbcp.password\" = \"password\",\n",
    "  \"hive.sql.jdbc.driver\" = \"org.postgresql.Driver\",\n",
    "  \"hive.sql.table\" = \"results\"\n",
    ")\n",
    "\n",
    "               ''')"
   ]
  },
  {
   "cell_type": "code",
   "execution_count": 37,
   "metadata": {},
   "outputs": [],
   "source": [
    "# TABLA RACES\n",
    "\n",
    "cursor.execute('''\n",
    "CREATE EXTERNAL TABLE IF NOT EXISTS hive_races (\n",
    "    raceId INT,\n",
    "    year INT,\n",
    "    round INT,\n",
    "    circuitId INT,\n",
    "    name STRING,\n",
    "    `date` DATE,            -- 'date' entre comillas invertidas por ser palabra reservada\n",
    "    `time` STRING,          -- 'time' entre comillas invertidas, mapeado a STRING\n",
    "    url STRING,\n",
    "    fp1_date DATE,\n",
    "    fp1_time STRING,        -- TIME mapeado a STRING\n",
    "    fp2_date DATE,\n",
    "    fp2_time STRING,\n",
    "    fp3_date DATE,\n",
    "    fp3_time STRING,\n",
    "    quali_date DATE,\n",
    "    quali_time STRING,\n",
    "    sprint_date DATE,\n",
    "    sprint_time STRING\n",
    ")\n",
    "STORED BY 'org.apache.hive.storage.jdbc.JdbcStorageHandler'\n",
    "TBLPROPERTIES (\n",
    "  \"hive.sql.database.type\" = \"POSTGRES\",\n",
    "  \"hive.sql.jdbc.url\" = \"jdbc:postgresql://hive4-postgres:5432/F1_STRUCTURED_DATA_POSTGRE\",\n",
    "  \"hive.sql.dbcp.username\" = \"hive\",\n",
    "  \"hive.sql.dbcp.password\" = \"password\",\n",
    "  \"hive.sql.jdbc.driver\" = \"org.postgresql.Driver\",\n",
    "  \"hive.sql.table\" = \"races\"\n",
    ")\n",
    "               ''')"
   ]
  },
  {
   "cell_type": "markdown",
   "metadata": {},
   "source": [
    "Ahora vamos a hacer unas querys sencillas para comprobar que todo funciona correctamente."
   ]
  },
  {
   "cell_type": "code",
   "execution_count": 42,
   "metadata": {},
   "outputs": [
    {
     "name": "stdout",
     "output_type": "stream",
     "text": [
      "(1, 'hamilton', 44, 'HAM', 'Lewis', 'Hamilton', '1985-01-07', 'British', 'http://en.wikipedia.org/wiki/Lewis_Hamilton')\n",
      "(2, 'heidfeld', None, 'HEI', 'Nick', 'Heidfeld', '1977-05-10', 'German', 'http://en.wikipedia.org/wiki/Nick_Heidfeld')\n",
      "(3, 'rosberg', 6, 'ROS', 'Nico', 'Rosberg', '1985-06-27', 'German', 'http://en.wikipedia.org/wiki/Nico_Rosberg')\n",
      "(4, 'alonso', 14, 'ALO', 'Fernando', 'Alonso', '1981-07-29', 'Spanish', 'http://en.wikipedia.org/wiki/Fernando_Alonso')\n",
      "(5, 'kovalainen', None, 'KOV', 'Heikki', 'Kovalainen', '1981-10-19', 'Finnish', 'http://en.wikipedia.org/wiki/Heikki_Kovalainen')\n"
     ]
    }
   ],
   "source": [
    "cursor.execute('''\n",
    "SELECT * FROM hive_drivers LIMIT 5\n",
    "               ''')\n",
    "\n",
    "results = cursor.fetchall()\n",
    "\n",
    "for result in results:\n",
    "    print(result)"
   ]
  },
  {
   "cell_type": "code",
   "execution_count": 43,
   "metadata": {},
   "outputs": [
    {
     "name": "stdout",
     "output_type": "stream",
     "text": [
      "[(26519,)]\n"
     ]
    }
   ],
   "source": [
    "cursor.execute('''\n",
    "SELECT count(*) FROM hive_results\n",
    "               ''')\n",
    "\n",
    "print(cursor.fetchall())"
   ]
  },
  {
   "cell_type": "code",
   "execution_count": 44,
   "metadata": {},
   "outputs": [],
   "source": [
    "cur.close()\n",
    "conn.close()"
   ]
  }
 ],
 "metadata": {
  "kernelspec": {
   "display_name": ".venv",
   "language": "python",
   "name": "python3"
  },
  "language_info": {
   "codemirror_mode": {
    "name": "ipython",
    "version": 3
   },
   "file_extension": ".py",
   "mimetype": "text/x-python",
   "name": "python",
   "nbconvert_exporter": "python",
   "pygments_lexer": "ipython3",
   "version": "3.10.11"
  }
 },
 "nbformat": 4,
 "nbformat_minor": 2
}
