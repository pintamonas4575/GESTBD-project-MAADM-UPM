{
 "cells": [
  {
   "cell_type": "markdown",
   "metadata": {},
   "source": [
    "# PRÁCTICA 2: **DATOS NO ESTRUCTURADOS**\n",
    "\n",
    "**GRUPO:** GESTDB_2\n",
    "\n",
    "**MIEMBROS:** \n",
    "- JAIME ALVAREZ URUEÑA\n",
    "- ÁLVARO FRAILE CARMENA \n",
    "- ALEJANDRO MENDOZA MEDINA\n",
    "- JAVIER QUESADA PAJARES\n",
    "  \n",
    "----"
   ]
  },
  {
   "cell_type": "code",
   "execution_count": 168,
   "metadata": {},
   "outputs": [],
   "source": [
    "import pandas as pd\n",
    "import requests\n",
    "import re\n",
    "from bs4.element import ResultSet, Tag\n",
    "from bs4 import BeautifulSoup\n",
    "from datetime import datetime"
   ]
  },
  {
   "cell_type": "markdown",
   "metadata": {},
   "source": [
    "## **OLD FUNCTIONS**"
   ]
  },
  {
   "cell_type": "code",
   "execution_count": 2,
   "metadata": {},
   "outputs": [],
   "source": [
    "def get_driver_name(string: str):\n",
    "    driver_dictionary={\n",
    "        'lec':'Charles Leclerc',\n",
    "        'sai':'Carlos Sainz',\n",
    "        'per' : 'Sergio Perez',\n",
    "        'ver' : 'Max Verstappen',\n",
    "        'pia': 'Oscar Piastri',\n",
    "        'nor' : 'Lando Norris',\n",
    "        'law' : 'Liam Lawson',\n",
    "        'ric' : 'Daniel Ricciardo',\n",
    "        'alo' : 'Fernando Alonso',\n",
    "        'hul': 'Nico Hulkenberg',\n",
    "        'col':'Franco Colapinto',\n",
    "        'rus':'George Russell',\n",
    "        'ham':'Lewis Hamilton',\n",
    "        'alb' : 'Alex Albon',\n",
    "        'bea' :' Oliver Bearman',\n",
    "        'mag':'Kevin Magnussen',\n",
    "        'gas' : 'Pierre Gasly',\n",
    "        'oco':'Esteban Ocon',\n",
    "        'sar':'Logan Sargeant',\n",
    "        'zho' : 'Guanyu Zhou',\n",
    "        'bot':'Valtteri Bottas',\n",
    "        'dev':'Nyck Devries',\n",
    "        'str':'Lance Stroll',\n",
    "        'lat':'Nicholas Latiffi',\n",
    "        'tsu':'Yuki Tsunoda',\n",
    "        'sch':'Mick Schumacher',\n",
    "        'gio':'Antonio Giovinazzi',\n",
    "        'kub':'Robert Kubica',\n",
    "        'vet':'Sebastian Vettel',\n",
    "        'rai':'Kimi Raikkonen',\n",
    "        'maz':'Nikita Mazepin'\n",
    "    }\n",
    "    lowers=string.lower()\n",
    "    for key,value in driver_dictionary.items():\n",
    "        if key in lowers:\n",
    "            return value\n",
    "    return 'Unknown driver'"
   ]
  },
  {
   "cell_type": "markdown",
   "metadata": {},
   "source": [
    "**Coger PILOTO dentro del ranking**"
   ]
  },
  {
   "cell_type": "code",
   "execution_count": 39,
   "metadata": {},
   "outputs": [],
   "source": [
    "def GetDriverNames(url):\n",
    "    print(f\"\\nPILOTOS DE LA URL: {url}\") \n",
    "    response = requests.get(url)\n",
    "    soup = BeautifulSoup(response.text, \"html.parser\")\n",
    "\n",
    "    listitems = soup.find_all('div', class_=re.compile(r'^border-t-0'))[:-1] # todas menos la última, la general\n",
    "\n",
    "    for imagen in listitems:\n",
    "        etiqueta_imagen = imagen.find('img') # etiqueta <img> entera\n",
    "        nombre_imagen: str = etiqueta_imagen['alt']\n",
    "        print(nombre_imagen)\n",
    "\n",
    "        print(get_driver_name(nombre_imagen))  "
   ]
  },
  {
   "cell_type": "code",
   "execution_count": 40,
   "metadata": {},
   "outputs": [
    {
     "name": "stdout",
     "output_type": "stream",
     "text": [
      "\n",
      "PILOTOS DE LA URL: https://www.formula1.com/en/latest/article/power-rankings-who-impressed-our-judges-across-a-pulsating-sprint-weekend-in.1MjyFCq7iA8lMqtvf9i4f3\n",
      "power-rankings-austin-2024-leclerc.png\n",
      "Charles Leclerc\n",
      "power-rankings-austin-2024-lawson.png\n",
      "Liam Lawson\n",
      "power-rankings-austin-2024-sainz.png\n",
      "Carlos Sainz\n",
      "power-rankings-austin-2024-verstappen.png\n",
      "Max Verstappen\n",
      "power-rankings-austin-2024-norris.png\n",
      "Lando Norris\n",
      "power-rankings-austin-2024-hulkenberg.png\n",
      "Nico Hulkenberg\n",
      "power-rankings-austin-2024-colapinto.png\n",
      "Franco Colapinto\n",
      "power-rankings-austin-2024-gasly.png\n",
      "Pierre Gasly\n",
      "power-rankings-austin-2024-magnussen.png\n",
      "Kevin Magnussen\n",
      "power-rankings-austin-2024-russell.png\n",
      "George Russell\n"
     ]
    }
   ],
   "source": [
    "GetDriverNames(url='https://www.formula1.com/en/latest/article/power-rankings-who-impressed-our-judges-across-a-pulsating-sprint-weekend-in.1MjyFCq7iA8lMqtvf9i4f3')"
   ]
  },
  {
   "cell_type": "markdown",
   "metadata": {},
   "source": [
    "**Coger TEXTO del ranking**"
   ]
  },
  {
   "cell_type": "code",
   "execution_count": 32,
   "metadata": {},
   "outputs": [
    {
     "name": "stdout",
     "output_type": "stream",
     "text": [
      "['Charles Leclerc appeared to be slightly on the back foot in the Ferrari intra-team battle after Saturday’s action in Austin, having lost out to Carlos Sainz during the Sprint race and qualifying for the main event. However, the Monegasque came back fighting to brilliantly go from fourth to first at Turn 1 and then storm clear of the field. In Jenson Button’s words, Leclerc “put on a clinic” for his rivals.']\n",
      "['Liam Lawson admitted he had a mountain to climb on his return to the F1 grid after a year on the sidelines, but the New Zealander scaled it in style. Mixing it with Fernando Alonso, catching the eye in qualifying and rising from 19th to ninth (following an engine penalty) got his push to land a full-time 2025 seat off to a very strong start – and left our judges suitably impressed.']\n",
      "['As mentioned above, Sainz had the upper hand over Leclerc across the Sprint race and qualifying, but his chances of fighting for the Grand Prix win were undone by his team mate getting ahead at the start and a costly power unit issue. Despite this, the Spaniard kept his composure to pick off Red Bull’s Max Verstappen via an undercut strategy and back up Leclerc for a statement Ferrari one-two finish.']\n",
      "['Max Verstappen arrived at the Circuit of The Americas 52 points ahead of championship rival Lando Norris and – after a tense wheel-to-wheel battle in Sunday’s Grand Prix – left with that advantage topped up to 57. It was an impressive weekend of damage limitation for the reigning world champion, who must now feel a step closer to what would be title number four.']\n",
      "['Norris bounced back from defeat to Verstappen and Sainz in the Sprint race to bag pole for the Grand Prix – his sublime first lap proving decisive when George Russell crashed and brought out the yellow flags. As has often been the case in 2024, though, the McLaren driver’s first lap let him down and he spent the rest of the afternoon playing catch up. Norris snatched third from Verstappen late on, only for his off-track overtake to earn a five-second penalty and leave him fourth after the chequered flag.']\n",
      "['Haas introduced another round of upgrades at their second home race of the season and the new parts seemingly ticked the boxes, with both Nico Hulkenberg and Kevin Magnussen reaching SQ3 and scoring points in the Sprint. While he was beaten by Magnussen in the second qualifying session, Hulkenberg enjoyed a stronger Grand Prix to climb from 11th to eighth and help Haas move above RB for sixth in the constructors’ standings.']\n",
      "['Franco Colapinto has impressed at every event since replacing Logan Sargeant at the Italian Grand Prix, with the Austin weekend no exception. After reaching SQ3 and recording a respectable Sprint finish, the Argentinian turned 15th into 10th – and the final point – with a determined drive during Sunday’s Grand Prix. Meanwhile, more experienced team mate Alex Albon was left to rue a spin in Sprint qualifying and an incident with Esteban Ocon at the start of the main race.']\n",
      "['Alpine were another team to unleash developments in the United States, with set-up changes  between the Sprint race and qualifying bringing the new package to life in Pierre Gasly’s hands – his fine P7 on the grid becoming P6 thanks to Russell’s pit lane start. He held onto that position across the first stint but, after reacting to Haas rival Kevin Magnussen’s early stop, the Frenchman’s race unfortunately fell apart via a slow pit lane service, traffic and struggles to get his hard tyres to work.']\n",
      "['After their strong Sprint display, Magnussen was on course to join team mate Hulkenberg in the points again during Sunday’s Grand Prix and make it a ‘double double’ for Haas. But while Hulkenberg completed his race on a one-stop strategy, Magnussen – as touched on with Gasly above – swapped tyres early and ended up pitting twice. That second stop was a big blow to his efforts and meant he had to settle for 11th at the finish, just missing out on a point.']\n",
      "última\n",
      "['Russell was a front-runner in Friday’s Sprint Qualifying session as the Briton came within a few thousandths of beating Verstappen to pole. However, his promising pace disappeared as the Sprint race developed and those struggles were compounded by a crash during qualifying. With major car changes required, the Mercedes man was moved to the pit lane for the start of Sunday’s encounter, in which he did well to recover to P6.']\n"
     ]
    }
   ],
   "source": [
    "response = requests.get('https://www.formula1.com/en/latest/article/power-rankings-who-impressed-our-judges-across-a-pulsating-sprint-weekend-in.1MjyFCq7iA8lMqtvf9i4f3')\n",
    "soup = BeautifulSoup(response.text, \"html.parser\")\n",
    "\n",
    "clase = re.compile(r'^prose max-w-none mb-l tablet')\n",
    "\n",
    "list_items = soup.find_all('div', attrs={'class':clase}) # type = ResultSet\n",
    "list_items = list_items[1:] # lista de containers de texto, la [0] no sirve\n",
    "\n",
    "i=0\n",
    "for text_box in list_items: \n",
    "\n",
    "    paragraphs_container = text_box.find_all('p')\n",
    "    paragraphs = [parrafo.text for parrafo in paragraphs_container if not parrafo.find('strong')]\n",
    "    if i==len(list_items)-1:\n",
    "        print(\"última\")\n",
    "        paragraphs.pop() \n",
    "    print(paragraphs)\n",
    "    i+=1"
   ]
  },
  {
   "cell_type": "markdown",
   "metadata": {},
   "source": [
    "**Coger FECHA** "
   ]
  },
  {
   "cell_type": "code",
   "execution_count": 21,
   "metadata": {},
   "outputs": [
    {
     "name": "stdout",
     "output_type": "stream",
     "text": [
      "23 October 2024\n",
      "2024-10-23\n"
     ]
    }
   ],
   "source": [
    "response = requests.get('https://www.formula1.com/en/latest/article/power-rankings-who-impressed-our-judges-across-a-pulsating-sprint-weekend-in.1MjyFCq7iA8lMqtvf9i4f3')\n",
    "soup = BeautifulSoup(response.text, \"html.parser\")\n",
    "\n",
    "fecha_item = soup.find('time') # type = ResultSet\n",
    "\n",
    "fecha_objeto = datetime.strptime(fecha_item.string, \"%d %B %Y\")\n",
    "fecha_formato = fecha_objeto.strftime(\"%Y-%m-%d\")\n",
    "print(fecha_formato)  "
   ]
  },
  {
   "cell_type": "markdown",
   "metadata": {},
   "source": [
    "## **------------------BUCLE ENTERO------------------**"
   ]
  },
  {
   "cell_type": "code",
   "execution_count": 53,
   "metadata": {},
   "outputs": [],
   "source": [
    "def decode_driver_name(string: str):\n",
    "    driver_dictionary={\n",
    "        'lec':'Charles Leclerc',\n",
    "        'sai':'Carlos Sainz',\n",
    "        'per' : 'Sergio Perez',\n",
    "        'ver' : 'Max Verstappen',\n",
    "        'pia': 'Oscar Piastri',\n",
    "        'nor' : 'Lando Norris',\n",
    "        'law' : 'Liam Lawson',\n",
    "        'ric' : 'Daniel Ricciardo',\n",
    "        'alo' : 'Fernando Alonso',\n",
    "        'hul': 'Nico Hulkenberg',\n",
    "        'col':'Franco Colapinto',\n",
    "        'rus':'George Russell',\n",
    "        'ham':'Lewis Hamilton',\n",
    "        'alb' : 'Alex Albon',\n",
    "        'bea' :' Oliver Bearman',\n",
    "        'mag':'Kevin Magnussen',\n",
    "        'gas' : 'Pierre Gasly',\n",
    "        'oco':'Esteban Ocon',\n",
    "        'sar':'Logan Sargeant',\n",
    "        'zho' : 'Guanyu Zhou',\n",
    "        'bot':'Valtteri Bottas',\n",
    "        'dev':'Nyck Devries',\n",
    "        'str':'Lance Stroll',\n",
    "        'lat':'Nicholas Latiffi',\n",
    "        'tsu':'Yuki Tsunoda',\n",
    "        'sch':'Mick Schumacher',\n",
    "        'gio':'Antonio Giovinazzi',\n",
    "        'kub':'Robert Kubica',\n",
    "        'vet':'Sebastian Vettel',\n",
    "        'rai':'Kimi Raikkonen',\n",
    "        'maz':'Nikita Mazepin'\n",
    "    }\n",
    "    \n",
    "    lowers=string.lower()\n",
    "    for key,value in driver_dictionary.items():\n",
    "        if key in lowers:\n",
    "            return value\n",
    "    return 'Unknown driver'"
   ]
  },
  {
   "cell_type": "code",
   "execution_count": 180,
   "metadata": {},
   "outputs": [],
   "source": [
    "def get_drivers_review(article_soup: BeautifulSoup):\n",
    "    drivers_reviews = []\n",
    "    pattern = re.compile(r'^prose max-w-none mb-l tablet')\n",
    "    text_items = article_soup.find_all('div', attrs={'class':pattern})[1:] # los primeros no valen, son la intro\n",
    "\n",
    "    for index, text_box in enumerate(text_items): \n",
    "        paragraphs_container = text_box.find_all('p')\n",
    "        # texto_completo = \"\"\n",
    "        # for parrafo in paragraphs_container:\n",
    "        #     if parrafo.find('h3'):\n",
    "        #         break\n",
    "        #     elif parrafo.find('h3'):\n",
    "        #         continue\n",
    "        #     else:\n",
    "        #         texto_completo += parrafo.text+\" \"\n",
    "        paragraphs = [parrafo.text for parrafo in paragraphs_container if not parrafo.find('strong')] # sin el link de \"READ MORE\"\n",
    "        if index==len(text_items)-1: # quitarse el párrafo de \"Missing out\" del final, pero cuando hay más de uno no vale\n",
    "            paragraphs.pop() \n",
    "        # TODO: intentar eliminar directamente todo lo que vaya después de la etiqueta \"<h3 Missing out \\h3>\"\n",
    "        drivers_reviews.append(\" \".join(paragraphs))\n",
    "    return drivers_reviews"
   ]
  },
  {
   "cell_type": "code",
   "execution_count": 163,
   "metadata": {},
   "outputs": [],
   "source": [
    "def get_drivers_names(article_soup: BeautifulSoup):\n",
    "    drivers_names = []\n",
    "    pattern = re.compile(r'^border-t-0')\n",
    "    driver_images = article_soup.find_all('div', attrs={'class':pattern})[:-1] # todas menos la última, la general\n",
    "\n",
    "    for index, imagen in enumerate(driver_images):\n",
    "        if index == 10: # a la décima paro\n",
    "            break\n",
    "        etiqueta_imagen = imagen.find('img') # etiqueta <img> entera\n",
    "        nombre_imagen: str = etiqueta_imagen['alt']\n",
    "        drivers_names.append(decode_driver_name(nombre_imagen))\n",
    "\n",
    "    return drivers_names"
   ]
  },
  {
   "cell_type": "code",
   "execution_count": 164,
   "metadata": {},
   "outputs": [],
   "source": [
    "def get_ranking_date(article_soup: BeautifulSoup): \n",
    "    date_item = article_soup.find('time')\n",
    "\n",
    "    date_object = datetime.strptime(date_item.string, \"%d %B %Y\")\n",
    "    date_format = date_object.strftime(\"%Y-%m-%d\")\n",
    "\n",
    "    return date_format"
   ]
  },
  {
   "cell_type": "code",
   "execution_count": 174,
   "metadata": {},
   "outputs": [],
   "source": [
    "def get_ranking_page_data(url: str):\n",
    "    response = requests.get(url)\n",
    "    page_soup = BeautifulSoup(response.text, \"html.parser\")\n",
    "    \n",
    "    pattern = re.compile(r'^group group-hover:') # patrón de etiqueta de los artículos\n",
    "    articles_list = page_soup.find_all('a', attrs={'class':pattern})\n",
    "\n",
    "    for articulo in articles_list[:5]:\n",
    "        ranking_link_output = articulo['href']\n",
    "        \n",
    "        if 'fan' in ranking_link_output or 'pre-season' in ranking_link_output: # artículos inválidos\n",
    "            print('BASURA', ranking_link_output)\n",
    "            continue # saltar iteración\n",
    "        else:\n",
    "            print(ranking_link_output)\n",
    "\n",
    "        response = requests.get(ranking_link_output) # mismo HTML para los 3 scrapers\n",
    "        article_soup = BeautifulSoup(response.text, \"html.parser\")\n",
    "\n",
    "        date_output = get_ranking_date(article_soup) # PRIMERO, sacar fecha\n",
    "        # print(date_output)\n",
    "        \n",
    "        drivers_names_output = get_drivers_names(article_soup) # SEGUNDO, sacar nombres de los pilotos\n",
    "        # print(drivers_names_output)\n",
    "        \n",
    "        reviews_output = get_drivers_review(article_soup) # TERCERO, sacar el texto\n",
    "        for hola in reviews_output:\n",
    "            print(hola)\n",
    "\n",
    "        # print('HECHO el artículo')\n",
    "    return date_output, drivers_names_output, reviews_output, ranking_link_output"
   ]
  },
  {
   "cell_type": "code",
   "execution_count": null,
   "metadata": {},
   "outputs": [],
   "source": [
    "URL = \"https://www.formula1.com/en/latest/tags/power-rankings.699Peq5SC9zNGvwCkb1ln6?page=5\"\n",
    "\n",
    "datos = get_ranking_page_data(URL)"
   ]
  },
  {
   "cell_type": "markdown",
   "metadata": {},
   "source": [
    "## **Insertar una página entera de rankings en CSV**"
   ]
  },
  {
   "cell_type": "code",
   "execution_count": 107,
   "metadata": {},
   "outputs": [],
   "source": [
    "df = pd.DataFrame(pd.read_csv('data/unstructured/weekly_rankings_info.csv'))\n",
    "\n",
    "# df = pd.DataFrame(columns=df.columns)\n",
    "# df.to_csv('data/unstructured/weekly_rankings_info.csv', index=False)"
   ]
  },
  {
   "cell_type": "code",
   "execution_count": 118,
   "metadata": {},
   "outputs": [],
   "source": [
    "for piloto, review in zip(drivers_names_output, reviews_output):\n",
    "    # print(piloto)\n",
    "    # print(review)\n",
    "    # print(date_output)\n",
    "    # print(ranking_link_output)\n",
    "\n",
    "    new_row = [date_output, piloto, review, ranking_link_output]\n",
    "\n",
    "    df.loc[len(df)] = new_row\n",
    "    break\n",
    "df.to_csv('data/unstructured/weekly_rankings_info.csv', index=False)"
   ]
  }
 ],
 "metadata": {
  "kernelspec": {
   "display_name": "base",
   "language": "python",
   "name": "python3"
  },
  "language_info": {
   "codemirror_mode": {
    "name": "ipython",
    "version": 3
   },
   "file_extension": ".py",
   "mimetype": "text/x-python",
   "name": "python",
   "nbconvert_exporter": "python",
   "pygments_lexer": "ipython3",
   "version": "3.11.5"
  }
 },
 "nbformat": 4,
 "nbformat_minor": 2
}
