{
 "cells": [
  {
   "cell_type": "markdown",
   "metadata": {},
   "source": [
    "# PRÁCTICA 2: **DATOS NO ESTRUCTURADOS**\n",
    "\n",
    "**GRUPO:** GESTDB_2\n",
    "\n",
    "**MIEMBROS:** \n",
    "- JAIME ALVAREZ URUEÑA\n",
    "- ÁLVARO FRAILE CARMENA \n",
    "- ALEJANDRO MENDOZA MEDINA\n",
    "- JAVIER QUESADA PAJARES\n",
    "  \n",
    "----"
   ]
  },
  {
   "cell_type": "code",
   "execution_count": 1,
   "metadata": {},
   "outputs": [],
   "source": [
    "import pandas as pd\n",
    "import requests\n",
    "import re\n",
    "from bs4.element import ResultSet, Tag\n",
    "from bs4 import BeautifulSoup\n",
    "from datetime import datetime"
   ]
  },
  {
   "cell_type": "markdown",
   "metadata": {},
   "source": [
    "## **FUNCIONES AUXILIARES**"
   ]
  },
  {
   "cell_type": "code",
   "execution_count": 116,
   "metadata": {},
   "outputs": [],
   "source": [
    "def decode_driver_name(string: str):\n",
    "    driver_dictionary={\n",
    "        'lec':'Charles Leclerc',\n",
    "        'sai':'Carlos Sainz',\n",
    "        'per' : 'Sergio Perez',\n",
    "        'ver' : 'Max Verstappen',\n",
    "        'pia': 'Oscar Piastri',\n",
    "        'nor' : 'Lando Norris',\n",
    "        'law' : 'Liam Lawson',\n",
    "        'ric' : 'Daniel Ricciardo',\n",
    "        'alo' : 'Fernando Alonso',\n",
    "        'hul': 'Nico Hulkenberg',\n",
    "        'col':'Franco Colapinto',\n",
    "        'rus':'George Russell',\n",
    "        'ham':'Lewis Hamilton',\n",
    "        'alb' : 'Alex Albon',\n",
    "        'bea' :' Oliver Bearman',\n",
    "        'mag':'Kevin Magnussen',\n",
    "        'gas' : 'Pierre Gasly',\n",
    "        'oco':'Esteban Ocon',\n",
    "        'sar':'Logan Sargeant',\n",
    "        'zho' : 'Guanyu Zhou',\n",
    "        'bot':'Valtteri Bottas',\n",
    "        'dev':'Nyck Devries',\n",
    "        'str':'Lance Stroll',\n",
    "        'lat':'Nicholas Latiffi',\n",
    "        'tsu':'Yuki Tsunoda',\n",
    "        'sch':'Mick Schumacher',\n",
    "        'gio':'Antonio Giovinazzi',\n",
    "        'kub':'Robert Kubica',\n",
    "        'vet':'Sebastian Vettel',\n",
    "        'rai':'Kimi Raikkonen',\n",
    "        'maz':'Nikita Mazepin'\n",
    "    }\n",
    "    \n",
    "    lowers=string.lower()\n",
    "    for key,value in driver_dictionary.items():\n",
    "        if key in lowers:\n",
    "            return value\n",
    "    return 'Unknown driver'"
   ]
  },
  {
   "cell_type": "code",
   "execution_count": 117,
   "metadata": {},
   "outputs": [],
   "source": [
    "def get_drivers_review(article_soup: BeautifulSoup):\n",
    "    drivers_reviews = []\n",
    "    pattern = re.compile(r'^prose max-w-none mb-l tablet')\n",
    "    text_items = article_soup.find_all('div', attrs={'class':pattern})[1:] # los primeros no valen, son la intro\n",
    "\n",
    "    for index, text_box in enumerate(text_items): \n",
    "        if index == 10: # después de la décima, chao\n",
    "            break\n",
    "        texto_completo = \"\"\n",
    "\n",
    "        for descendiente in text_box.contents:\n",
    "            if descendiente.name == 'h3' or descendiente.find('strong'): # \"read more\" o \"missing out\"\n",
    "                break\n",
    "            else:\n",
    "                texto_completo += descendiente.text+\" \"\n",
    "                \n",
    "        drivers_reviews.append(texto_completo)\n",
    "        \n",
    "    return drivers_reviews"
   ]
  },
  {
   "cell_type": "code",
   "execution_count": 118,
   "metadata": {},
   "outputs": [],
   "source": [
    "def get_drivers_names_and_positions(article_soup: BeautifulSoup):\n",
    "    drivers_names = []\n",
    "    pattern = re.compile(r'^border-t-0')\n",
    "    driver_images = article_soup.find_all('div', attrs={'class':pattern})[:-1] # todas menos la última, la general\n",
    "\n",
    "    for index, imagen in enumerate(driver_images):\n",
    "        if index == 10: # a la décima paro\n",
    "            break\n",
    "        etiqueta_imagen = imagen.find('img')\n",
    "        nombre_imagen: str = etiqueta_imagen['alt']\n",
    "        drivers_names.append(decode_driver_name(nombre_imagen))\n",
    "\n",
    "    return drivers_names, [i for i in range(1,11)]"
   ]
  },
  {
   "cell_type": "code",
   "execution_count": 119,
   "metadata": {},
   "outputs": [],
   "source": [
    "def get_ranking_date(article_soup: BeautifulSoup): \n",
    "    date_item = article_soup.find('time')\n",
    "\n",
    "    date_object = datetime.strptime(date_item.string, \"%d %B %Y\")\n",
    "    date_format = date_object.strftime(\"%Y-%m-%d\")\n",
    "\n",
    "    return date_format"
   ]
  },
  {
   "cell_type": "code",
   "execution_count": 120,
   "metadata": {},
   "outputs": [],
   "source": [
    "def get_ranking_page_data(url: str):\n",
    "    response = requests.get(url)\n",
    "    page_soup = BeautifulSoup(response.text, \"html.parser\")\n",
    "    \n",
    "    pattern = re.compile(r'^group group-hover:') # patrón de etiqueta de los artículos\n",
    "    articles_list = page_soup.find_all('a', attrs={'class':pattern})\n",
    "\n",
    "    dates_megalist = []\n",
    "    names_megalist = []\n",
    "    positions_megalist = []\n",
    "    reviews_megalist = []\n",
    "    links_megalist = []\n",
    "\n",
    "    for articulo in articles_list:\n",
    "        ranking_link_output = articulo['href'] # adicional, el link del ranking\n",
    "        \n",
    "        if 'fan' in ranking_link_output or 'pre-season' in ranking_link_output: # artículos inválidos\n",
    "            continue # saltar iteración\n",
    "        links_megalist.append(ranking_link_output)\n",
    "\n",
    "        response = requests.get(ranking_link_output) # mismo HTML para los 3 scrapers\n",
    "        article_soup = BeautifulSoup(response.text, \"html.parser\")\n",
    "\n",
    "        date_output = get_ranking_date(article_soup) # PRIMERO, sacar fecha\n",
    "        dates_megalist.append(date_output)\n",
    "        \n",
    "        drivers_names_output, positions_output = get_drivers_names_and_positions(article_soup) # SEGUNDO, sacar nombres de los pilotos\n",
    "        names_megalist.append(drivers_names_output)\n",
    "        positions_megalist.append(positions_output)\n",
    "        \n",
    "        reviews_output = get_drivers_review(article_soup) # TERCERO, sacar el texto\n",
    "        reviews_megalist.append(reviews_output)\n",
    "\n",
    "    return dates_megalist, names_megalist, positions_megalist, reviews_megalist, links_megalist"
   ]
  },
  {
   "cell_type": "markdown",
   "metadata": {},
   "source": [
    "## **Insertar una página entera de rankings en CSV**"
   ]
  },
  {
   "cell_type": "code",
   "execution_count": 121,
   "metadata": {},
   "outputs": [],
   "source": [
    "df = pd.DataFrame(pd.read_csv('data/unstructured/rankings_info_pos.csv'))"
   ]
  },
  {
   "cell_type": "code",
   "execution_count": 122,
   "metadata": {},
   "outputs": [],
   "source": [
    "URL = \"https://www.formula1.com/en/latest/tags/power-rankings.699Peq5SC9zNGvwCkb1ln6?page=5\"\n",
    "dates, drivers_names, positions, reviews, ranking_links = get_ranking_page_data(URL)\n",
    "\n",
    "for fecha, tanda_pilotos, posiciones, tanda_reviews, link in zip(dates, drivers_names, positions, reviews, ranking_links):\n",
    "    for piloto, posicion, review in zip(tanda_pilotos, posiciones, tanda_reviews):\n",
    "        new_row = [fecha, piloto, posicion, review, link]   \n",
    "        df.loc[len(df)] = new_row\n",
    "df.to_csv('data/unstructured/rankings_info_pos.csv', index=False)"
   ]
  },
  {
   "cell_type": "code",
   "execution_count": 9,
   "metadata": {},
   "outputs": [],
   "source": [
    "# Limpiar\n",
    "df = pd.DataFrame(columns=df.columns)\n",
    "df.to_csv('data/unstructured/rankings_info_pos.csv', index=False)\n",
    "df = pd.DataFrame(pd.read_csv('data/unstructured/rankings_info_pos.csv'))"
   ]
  },
  {
   "cell_type": "markdown",
   "metadata": {},
   "source": [
    "## **Insertar varias páginas enteras de rankings en CSV**"
   ]
  },
  {
   "cell_type": "code",
   "execution_count": 104,
   "metadata": {},
   "outputs": [],
   "source": [
    "df = pd.DataFrame(pd.read_csv('data/unstructured/rankings_info_pos.csv'))"
   ]
  },
  {
   "cell_type": "code",
   "execution_count": 98,
   "metadata": {},
   "outputs": [
    {
     "name": "stdout",
     "output_type": "stream",
     "text": [
      "Página [1] hecha\n",
      "Página [2] hecha\n",
      "Página [3] hecha\n",
      "Página [4] hecha\n",
      "Página [5] hecha\n",
      "Página [6] hecha\n"
     ]
    }
   ],
   "source": [
    "URL = \"https://www.formula1.com/en/latest/tags/power-rankings.699Peq5SC9zNGvwCkb1ln6?page=\"\n",
    "\n",
    "for num_pagina in range(1,7):\n",
    "    url_pagina = URL + str(num_pagina)\n",
    "    dates, drivers_names, reviews, ranking_links = get_ranking_page_data(url_pagina)\n",
    "\n",
    "    for fecha, tanda_pilotos, tanda_reviews, link in zip(dates, drivers_names, reviews, ranking_links):\n",
    "        for piloto, review in zip(tanda_pilotos, tanda_reviews):\n",
    "            new_row = [fecha, piloto, review, link]\n",
    "            \n",
    "            df.loc[len(df)] = new_row\n",
    "    print(f'Página [{num_pagina}] hecha')\n",
    "df.to_csv('data/unstructured/rankings_info_pos.csv', index=False)"
   ]
  },
  {
   "cell_type": "code",
   "execution_count": 105,
   "metadata": {},
   "outputs": [],
   "source": [
    "# Limpiar\n",
    "df = pd.DataFrame(columns=df.columns)\n",
    "df.to_csv('data/unstructured/rankings_info_pos.csv', index=False)\n",
    "df = pd.DataFrame(pd.read_csv('data/unstructured/rankings_info_pos.csv'))"
   ]
  },
  {
   "cell_type": "markdown",
   "metadata": {},
   "source": [
    "---"
   ]
  },
  {
   "cell_type": "code",
   "execution_count": 173,
   "metadata": {},
   "outputs": [],
   "source": [
    "def get_drivers_review2(article_soup: BeautifulSoup):\n",
    "    drivers_reviews = []\n",
    "    pattern = re.compile(r'^prose max-w-none mb-l tablet')\n",
    "    text_items = article_soup.find_all('div', attrs={'class':pattern})[1:] # los primeros no valen, son la intro\n",
    "\n",
    "    for index, text_box in enumerate(text_items): \n",
    "        if index == 10: # después de la décima, chao\n",
    "            break\n",
    "        texto_completo = \"\"\n",
    "        if index>=7:\n",
    "            print(text_box.contents)\n",
    "            for descendiente in text_box.contents:\n",
    "                # print(type(descendiente))\n",
    "                if descendiente.text == '\\n':\n",
    "                    print('SALTO')\n",
    "                # else:\n",
    "                #     texto_completo += descendiente.text+\" \"\n",
    "                # if descendiente.name == 'h3' or descendiente.find('strong'): # \"read more\" o \"missing out\"\n",
    "                    break\n",
    "            print(texto_completo)\n",
    "\n",
    "        # TODO: ver lo de los párrafos separados\n",
    "                \n",
    "        # drivers_reviews.append(texto_completo)\n",
    "        \n",
    "    return drivers_reviews"
   ]
  },
  {
   "cell_type": "code",
   "execution_count": 174,
   "metadata": {},
   "outputs": [
    {
     "name": "stdout",
     "output_type": "stream",
     "text": [
      "[<p>Hot on the heels of his confirmation at Williams for a third season in 2022 – where he’ll <a href=\"https://www.formula1.com/en/latest/article.breaking-alex-albon-returns-to-f1-race-seat-with-williams-in-2022-alongside.46oM1Ffk7ngYX3yIpyciXC.html\">partner Alex Albon</a> – Monza was yet another indication that Nicholas Latifi is moving the dial in the right direction.</p>, '\\n', <p>The Canadian out-raced team mate Russell in the Sprint to finish P14, and ran in the top 10 at points only to get unlucky with the timing of the Safety Car, which allowed the fresher-tyred Esteban Ocon to pass him for P10 as Latifi finished just outside the points.</p>, '\\n', <p><strong><a href=\"https://www.formula1.com/en/latest/article.ross-brawn-on-mclarens-monza-magic-and-what-the-verstappen-hamilton-crash.6MP4LCgVqrlaj8X9h6fMNR.html\">READ MORE: Ross Brawn on McLaren’s Monza magic, and what the Verstappen-Hamilton crash means for the title battle</a></strong></p>]\n",
      "SALTO\n",
      "\n",
      "[<p>And so to the other protagonist in the crash that set tongues wagging throughout the paddock.</p>, '\\n', <p>In truth, even discounting the incident with Verstappen, this was not Hamilton’s finest weekend at a Monza track he’s thrived at in recent years, Bottas beating him in qualifying here for the first time in his Mercedes career, while Hamilton was forced to follow the McLaren of Norris in both the Sprint and the Grand Prix, before <em>that</em> shunt with his title rival.</p>, '\\n', <p><strong><a href=\"https://www.formula1.com/en/latest/article.hamilton-says-halo-saved-my-neck-in-monza-and-gives-his-take-on-verstappens.74O5rEkGP4cCj0E9A3ak76.html\">READ MORE: Hamilton says halo ‘saved my neck’ in Monza, and gives his take on Verstappen’s penalty</a></strong></p>]\n",
      "SALTO\n",
      "\n",
      "[<p>That’s now three significant crashes from Carlos Sainz in four Grand Prix weekends, as the Spaniard continues to explore to outer limits of his Ferrari SF21. The <a href=\"https://www.formula1.com/en/latest/article.sainz-says-p7-in-sprint-helped-rebuild-confidence-after-weird-fp2-crash-at.5H8En9dOkC35cRVIVdvEfr.html\">FP2 crash at Monza</a> particularly spooked Sainz, however, with his confidence forced to play catch-up in the Sprint and the Grand Prix, as he vowed to analyse a “difficult weekend” in Italy and come back stronger in Sochi.</p>, '\\n', <p><strong><a href=\"https://www.formula1.com/en/latest/article.sainz-says-ferrari-never-had-the-pace-or-tools-to-fight-for-home-victory-at.3N0Is1oeu6ps4To6Tf8O0i.html\">READ MORE: Sainz says Ferrari 'never had the pace or tools' to fight for home victory at Monza</a></strong></p>]\n",
      "SALTO\n",
      "\n"
     ]
    }
   ],
   "source": [
    "hola=\"https://www.formula1.com/en/latest/article/f1-power-rankings-who-topped-the-standings-after-another-monza-thriller.R92cNHwJCuUmCEmrY4K1B\"\n",
    "response = requests.get(hola) \n",
    "article_soup = BeautifulSoup(response.text, \"html.parser\")\n",
    "\n",
    "gg = get_drivers_review2(article_soup)"
   ]
  }
 ],
 "metadata": {
  "kernelspec": {
   "display_name": "base",
   "language": "python",
   "name": "python3"
  },
  "language_info": {
   "codemirror_mode": {
    "name": "ipython",
    "version": 3
   },
   "file_extension": ".py",
   "mimetype": "text/x-python",
   "name": "python",
   "nbconvert_exporter": "python",
   "pygments_lexer": "ipython3",
   "version": "3.11.5"
  }
 },
 "nbformat": 4,
 "nbformat_minor": 2
}
