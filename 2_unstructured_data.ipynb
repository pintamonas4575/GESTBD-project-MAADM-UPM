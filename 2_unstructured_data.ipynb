{
 "cells": [
  {
   "cell_type": "markdown",
   "metadata": {},
   "source": [
    "# PRÁCTICA 2: **DATOS NO ESTRUCTURADOS**\n",
    "\n",
    "**GRUPO:** GESTDB_2\n",
    "\n",
    "**MIEMBROS:** \n",
    "- JAIME ALVAREZ URUEÑA\n",
    "- ÁLVARO FRAILE CARMENA \n",
    "- ALEJANDRO MENDOZA MEDINA\n",
    "- JAVIER QUESADA PAJARES\n",
    "  \n",
    "----"
   ]
  },
  {
   "cell_type": "code",
   "execution_count": 2,
   "metadata": {},
   "outputs": [],
   "source": [
    "import pandas as pd\n",
    "import numpy as np\n",
    "import requests\n",
    "from bs4.element import ResultSet, Tag\n",
    "from bs4 import BeautifulSoup\n",
    "import re"
   ]
  },
  {
   "cell_type": "code",
   "execution_count": 3,
   "metadata": {},
   "outputs": [],
   "source": [
    "url = \"https://www.formula1.com/en/latest/tags/power-rankings.699Peq5SC9zNGvwCkb1ln6?page=1\"\n",
    "# url = \"https://www.formula1.com/en/latest/tags/power-rankings.699Peq5SC9zNGvwCkb1ln6\"\n",
    "\n",
    "urls_semanales = []\n",
    "\n",
    "response = requests.get(url)\n",
    "soup = BeautifulSoup(response.text, \"html.parser\")\n",
    "\n",
    "pattern = re.compile(r'^group w')\n",
    "\n",
    "list_items = soup.find_all('li', class_=pattern) # type = resultset\n",
    "\n",
    "# Iterar sobre los <li>\n",
    "for link_box in list_items:\n",
    "    link = link_box.find('a')  # Sacar la etiqueta <a>\n",
    "    href = link.get('href')    # Sacar el atributo href\n",
    "    # print(href)\n",
    "    urls_semanales.append(href)"
   ]
  },
  {
   "cell_type": "code",
   "execution_count": 4,
   "metadata": {},
   "outputs": [
    {
     "data": {
      "text/plain": [
       "'https://www.formula1.com/en/latest/article/power-rankings-who-impressed-our-judges-across-a-pulsating-sprint-weekend-in.1MjyFCq7iA8lMqtvf9i4f3'"
      ]
     },
     "execution_count": 4,
     "metadata": {},
     "output_type": "execute_result"
    }
   ],
   "source": [
    "urls_semanales[0]"
   ]
  },
  {
   "cell_type": "markdown",
   "metadata": {},
   "source": [
    "**Coger fecha, pilot y texto dentro del ranking**"
   ]
  },
  {
   "cell_type": "code",
   "execution_count": 13,
   "metadata": {},
   "outputs": [
    {
     "name": "stdout",
     "output_type": "stream",
     "text": [
      "power-rankings-austin-2024-leclerc.png <class 'str'>\n"
     ]
    }
   ],
   "source": [
    "response = requests.get(urls_semanales[0])\n",
    "soup = BeautifulSoup(response.text, \"html.parser\")\n",
    "\n",
    "list_items = soup.find_all('div', class_=re.compile(r'^border-t-0')) # type = resultset\n",
    "\n",
    "for imagen in list_items:\n",
    "    etiqueta_imagen = imagen.find('img') # etiqueta <img> entera\n",
    "    nombre_imagen: str = etiqueta_imagen['alt']\n",
    "    print(nombre_imagen)\n",
    "    apellido_piloto = nombre_imagen.split()\n",
    "    break\n",
    "\n",
    "def find_attribute(imagen: Tag):\n",
    "    nombre_imagen = imagen.find('img')\n",
    "    apellido_piloto = nombre_imagen.find('alt')"
   ]
  },
  {
   "cell_type": "markdown",
   "metadata": {},
   "source": [
    "---\n",
    "\n",
    "---"
   ]
  },
  {
   "cell_type": "markdown",
   "metadata": {},
   "source": [
    "**Coger texto del ranking**"
   ]
  },
  {
   "cell_type": "code",
   "execution_count": 61,
   "metadata": {},
   "outputs": [
    {
     "name": "stdout",
     "output_type": "stream",
     "text": [
      "['Charles Leclerc appeared to be slightly on the back foot in the Ferrari intra-team battle after Saturday’s action in Austin, having lost out to Carlos Sainz during the Sprint race and qualifying for the main event. However, the Monegasque came back fighting to brilliantly go from fourth to first at Turn 1 and then storm clear of the field. In Jenson Button’s words, Leclerc “put on a clinic” for his rivals.']\n",
      "['Liam Lawson admitted he had a mountain to climb on his return to the F1 grid after a year on the sidelines, but the New Zealander scaled it in style. Mixing it with Fernando Alonso, catching the eye in qualifying and rising from 19th to ninth (following an engine penalty) got his push to land a full-time 2025 seat off to a very strong start – and left our judges suitably impressed.']\n",
      "['As mentioned above, Sainz had the upper hand over Leclerc across the Sprint race and qualifying, but his chances of fighting for the Grand Prix win were undone by his team mate getting ahead at the start and a costly power unit issue. Despite this, the Spaniard kept his composure to pick off Red Bull’s Max Verstappen via an undercut strategy and back up Leclerc for a statement Ferrari one-two finish.']\n",
      "['Max Verstappen arrived at the Circuit of The Americas 52 points ahead of championship rival Lando Norris and – after a tense wheel-to-wheel battle in Sunday’s Grand Prix – left with that advantage topped up to 57. It was an impressive weekend of damage limitation for the reigning world champion, who must now feel a step closer to what would be title number four.']\n",
      "['Norris bounced back from defeat to Verstappen and Sainz in the Sprint race to bag pole for the Grand Prix – his sublime first lap proving decisive when George Russell crashed and brought out the yellow flags. As has often been the case in 2024, though, the McLaren driver’s first lap let him down and he spent the rest of the afternoon playing catch up. Norris snatched third from Verstappen late on, only for his off-track overtake to earn a five-second penalty and leave him fourth after the chequered flag.']\n",
      "['Haas introduced another round of upgrades at their second home race of the season and the new parts seemingly ticked the boxes, with both Nico Hulkenberg and Kevin Magnussen reaching SQ3 and scoring points in the Sprint. While he was beaten by Magnussen in the second qualifying session, Hulkenberg enjoyed a stronger Grand Prix to climb from 11th to eighth and help Haas move above RB for sixth in the constructors’ standings.']\n",
      "['Franco Colapinto has impressed at every event since replacing Logan Sargeant at the Italian Grand Prix, with the Austin weekend no exception. After reaching SQ3 and recording a respectable Sprint finish, the Argentinian turned 15th into 10th – and the final point – with a determined drive during Sunday’s Grand Prix. Meanwhile, more experienced team mate Alex Albon was left to rue a spin in Sprint qualifying and an incident with Esteban Ocon at the start of the main race.']\n",
      "['Alpine were another team to unleash developments in the United States, with set-up changes  between the Sprint race and qualifying bringing the new package to life in Pierre Gasly’s hands – his fine P7 on the grid becoming P6 thanks to Russell’s pit lane start. He held onto that position across the first stint but, after reacting to Haas rival Kevin Magnussen’s early stop, the Frenchman’s race unfortunately fell apart via a slow pit lane service, traffic and struggles to get his hard tyres to work.']\n",
      "['After their strong Sprint display, Magnussen was on course to join team mate Hulkenberg in the points again during Sunday’s Grand Prix and make it a ‘double double’ for Haas. But while Hulkenberg completed his race on a one-stop strategy, Magnussen – as touched on with Gasly above – swapped tyres early and ended up pitting twice. That second stop was a big blow to his efforts and meant he had to settle for 11th at the finish, just missing out on a point.']\n",
      "['Russell was a front-runner in Friday’s Sprint Qualifying session as the Briton came within a few thousandths of beating Verstappen to pole. However, his promising pace disappeared as the Sprint race developed and those struggles were compounded by a crash during qualifying. With major car changes required, the Mercedes man was moved to the pit lane for the start of Sunday’s encounter, in which he did well to recover to P6.', 'Oscar Piastri just missed out on a place in the top half of the Power Rankings field, having spent the event in team mate Norris’s shadow, while at the other end of the order, Lewis Hamilton was given the lowest combined score after a challenging weekend that he finished in the gravel trap.']\n"
     ]
    }
   ],
   "source": [
    "response = requests.get(urls_semanales[0])\n",
    "soup = BeautifulSoup(response.text, \"html.parser\")\n",
    "\n",
    "# clase = \"\"\"prose max-w-none mb-l tablet:mb-xl prose-a:text-brand-primary prose-a:underline prose-a:underline-offset-normal prose-a:decoration-1 prose-a:decoration-greyLight hover:prose-a:decoration-brand-primary prose-headings:font-formula prose-headings:font-normal prose-headings:mt-0 prose-h3:font-titillium prose-h3:font-semibold prose-p:font-titillium prose-td:font-titillium prose-th:font-titillium prose-th:font-semibold [&_ol_li]:marker:font-formula prose-li:font-titillium prose-blockquote:pl-0\"\"\"\n",
    "clase = re.compile(r'^prose max-w-none mb-l tablet')\n",
    "\n",
    "list_items = soup.find_all('div', class_=clase) # type = ResultSet\n",
    "\n",
    "for text_box in list_items[1:]: # lista de containers de texto, la [0] no sirve\n",
    "\n",
    "    paragraphs_container = text_box.find_all('p')\n",
    "    paragraphs = [parrafo.text for parrafo in paragraphs_container if not parrafo.find('strong')]\n",
    "    print(paragraphs)\n",
    "\n",
    "    # break"
   ]
  },
  {
   "cell_type": "code",
   "execution_count": 106,
   "metadata": {},
   "outputs": [
    {
     "name": "stdout",
     "output_type": "stream",
     "text": [
      "Etiqueta strong\n",
      "Etiqueta strong\n",
      "How it works\n",
      "Etiqueta strong\n",
      "None\n",
      "Etiqueta strong\n",
      "Etiqueta strong\n"
     ]
    }
   ],
   "source": [
    "response = requests.get(urls_semanales[0])\n",
    "soup = BeautifulSoup(response.text, \"html.parser\")\n",
    "\n",
    "# clase = \"\"\"prose max-w-none mb-l tablet:mb-xl prose-a:text-brand-primary prose-a:underline prose-a:underline-offset-normal prose-a:decoration-1 prose-a:decoration-greyLight hover:prose-a:decoration-brand-primary prose-headings:font-formula prose-headings:font-normal prose-headings:mt-0 prose-h3:font-titillium prose-h3:font-semibold prose-p:font-titillium prose-td:font-titillium prose-th:font-titillium prose-th:font-semibold [&_ol_li]:marker:font-formula prose-li:font-titillium prose-blockquote:pl-0\"\"\"\n",
    "clase = re.compile(r'^prose max-w-none mb-l tablet')\n",
    "\n",
    "list_items = soup.find_all('div', class_=clase) # type = ResultSet\n",
    "\n",
    "list_items = list(list_items)\n",
    "\n",
    "# print(list_items[1]) # Tag\n",
    "\n",
    "for descendiente in list_items[0].contents:\n",
    "    if descendiente.find('strong'):\n",
    "        print('Etiqueta strong')\n",
    "    elif descendiente.find('h3'):\n",
    "        print('Etiqueta Missing out')\n",
    "        break\n",
    "    else:\n",
    "        print(descendiente.string)\n",
    "# for index, descendiente in enumerate(list_items.contents): # en vez de \".descendants\" para no iterar recursivamente\n",
    "#     if descendiente.name == 'h3':\n",
    "#         print(\"Parte 'Missing out'\")\n",
    "#         break\n",
    "#     print(descendiente.string)"
   ]
  },
  {
   "cell_type": "markdown",
   "metadata": {},
   "source": [
    "**Crear un CSV**"
   ]
  },
  {
   "cell_type": "code",
   "execution_count": null,
   "metadata": {},
   "outputs": [],
   "source": [
    "csv = pd.read_csv('data/unstructured/weekly_rankings_info.csv')\n",
    "df = pd.DataFrame(csv)"
   ]
  }
 ],
 "metadata": {
  "kernelspec": {
   "display_name": "base",
   "language": "python",
   "name": "python3"
  },
  "language_info": {
   "codemirror_mode": {
    "name": "ipython",
    "version": 3
   },
   "file_extension": ".py",
   "mimetype": "text/x-python",
   "name": "python",
   "nbconvert_exporter": "python",
   "pygments_lexer": "ipython3",
   "version": "3.11.5"
  }
 },
 "nbformat": 4,
 "nbformat_minor": 2
}
