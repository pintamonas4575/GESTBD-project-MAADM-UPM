{
 "cells": [
  {
   "cell_type": "markdown",
   "metadata": {},
   "source": [
    "# PRÁCTICA 3: **DATOS ENLAZADOS**\n",
    "\n",
    "**GRUPO:** GESTDB_2\n",
    "\n",
    "**MIEMBROS:** \n",
    "- JAIME ALVAREZ URUEÑA\n",
    "- ÁLVARO FRAILE CARMENA \n",
    "- ALEJANDRO MENDOZA MEDINA\n",
    "- JAVIER QUESADA PAJARES\n",
    "\n",
    "----"
   ]
  },
  {
   "cell_type": "code",
   "execution_count": null,
   "metadata": {
    "vscode": {
     "languageId": "plaintext"
    }
   },
   "outputs": [],
   "source": []
  }
 ],
 "metadata": {
  "language_info": {
   "name": "python"
  }
 },
 "nbformat": 4,
 "nbformat_minor": 2
}
