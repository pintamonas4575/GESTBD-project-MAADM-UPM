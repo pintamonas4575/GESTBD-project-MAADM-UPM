{
 "cells": [
  {
   "cell_type": "code",
   "execution_count": 1,
   "id": "9253ccd0-40d6-43a8-83c0-dc207a795322",
   "metadata": {},
   "outputs": [],
   "source": [
    "import json\n",
    "import pandas as pd\n",
    "from elasticsearch import Elasticsearch\n",
    "\n",
    "es = Elasticsearch(\"http://localhost:9200\")"
   ]
  },
  {
   "cell_type": "markdown",
   "id": "9c2af4f4",
   "metadata": {},
   "source": [
    "# **CREAR ÍNDICE**"
   ]
  },
  {
   "cell_type": "code",
   "execution_count": 2,
   "id": "7a8e987b-2677-49f8-97f2-f8cb04219507",
   "metadata": {},
   "outputs": [
    {
     "name": "stdout",
     "output_type": "stream",
     "text": [
      "Error: BadRequestError(400, 'resource_already_exists_exception', 'index [my_index/91JVpV3lQuy1-gJCLeUzUg] already exists')\n"
     ]
    }
   ],
   "source": [
    "index_mapping = {\n",
    "    \"mappings\": {\n",
    "        \"properties\": {\n",
    "            \"ranking_date\": {\"type\": \"date\", \"format\": \"yyyy-MM-dd\"},\n",
    "            \"pilot_name\": {\"type\": \"keyword\"},\n",
    "            \"position\": {\"type\": \"integer\"},\n",
    "            \"pilot_review\": {\"type\": \"text\"},\n",
    "            \"ranking_link\": {\"type\": \"text\"},\n",
    "        }\n",
    "    }\n",
    "}\n",
    "\n",
    "try:\n",
    "    es.indices.create(index=\"my_index\", body=index_mapping)\n",
    "except Exception as e:\n",
    "    print(f\"Error: {e}\")"
   ]
  },
  {
   "cell_type": "code",
   "execution_count": 3,
   "id": "626863f6-d158-44c2-b471-2c41251e65d2",
   "metadata": {},
   "outputs": [],
   "source": [
    "# es.indices.delete(index='my_index')"
   ]
  },
  {
   "cell_type": "markdown",
   "id": "b0231960-ee3f-4814-9b7e-ba73dccd3667",
   "metadata": {},
   "source": [
    "# **INDEXAR CSV**"
   ]
  },
  {
   "cell_type": "code",
   "execution_count": null,
   "id": "7dec2923-bd05-45df-99ed-8548c95b5bc4",
   "metadata": {},
   "outputs": [],
   "source": [
    "csv = pd.read_csv(\"data/unstructured/rankings_info.csv\")\n",
    "df = pd.DataFrame(csv)"
   ]
  },
  {
   "cell_type": "code",
   "execution_count": 5,
   "id": "e32f526a",
   "metadata": {},
   "outputs": [],
   "source": [
    "for index in range(len(df)):\n",
    "    doc = df.iloc[index].to_dict()\n",
    "    res_insert = es.index(index=\"my_index\", id=index+1, document=doc)"
   ]
  },
  {
   "cell_type": "code",
   "execution_count": 6,
   "id": "2339163f",
   "metadata": {},
   "outputs": [
    {
     "name": "stdout",
     "output_type": "stream",
     "text": [
      "{\n",
      "   \"_index\": \"my_index\",\n",
      "   \"_type\": \"_doc\",\n",
      "   \"_id\": \"940\",\n",
      "   \"_version\": 2,\n",
      "   \"result\": \"updated\",\n",
      "   \"_shards\": {\n",
      "      \"total\": 2,\n",
      "      \"successful\": 1,\n",
      "      \"failed\": 0\n",
      "   },\n",
      "   \"_seq_no\": 2819,\n",
      "   \"_primary_term\": 1\n",
      "}\n"
     ]
    }
   ],
   "source": [
    "print(json.dumps(res_insert.body, indent=3)) # el último insertado"
   ]
  },
  {
   "cell_type": "code",
   "execution_count": 7,
   "id": "9af47f45",
   "metadata": {},
   "outputs": [
    {
     "data": {
      "text/plain": [
       "ObjectApiResponse({'_index': 'my_index', '_type': '_doc', '_id': '455', '_version': 3, '_seq_no': 2334, '_primary_term': 1, 'found': True, '_source': {'ranking_date': '2022-11-23', 'pilot_name': 'Esteban Ocon', 'position': 5, 'pilot_review': 'Esteban Ocon qualified a solid eighth behind midfield rival Norris and the Alpine driver pretty much stayed right there for most of the race, his pace sufficient to prevent Vettel and team mate Fernando Alonso from catching up – but insufficient to catch Norris ahead. What was destined to be a P8 finish turned into P7 when Hamilton retired. ', 'ranking_link': 'https://www.formula1.com/en/latest/article/power-rankings-the-scores-come-in-from-the-final-race-of-2022-in-abu-dhabi.6cTDupNjqw80BGLYTEAymr'}})"
      ]
     },
     "execution_count": 7,
     "metadata": {},
     "output_type": "execute_result"
    }
   ],
   "source": [
    "es.get(index='my_index', id=455)"
   ]
  },
  {
   "cell_type": "markdown",
   "id": "809e644b",
   "metadata": {},
   "source": [
    "# **CONSULTAS**"
   ]
  },
  {
   "cell_type": "code",
   "execution_count": 14,
   "id": "f20a49b0",
   "metadata": {},
   "outputs": [
    {
     "name": "stdout",
     "output_type": "stream",
     "text": [
      "{\n",
      "    \"took\": 3,\n",
      "    \"timed_out\": false,\n",
      "    \"_shards\": {\n",
      "        \"total\": 1,\n",
      "        \"successful\": 1,\n",
      "        \"skipped\": 0,\n",
      "        \"failed\": 0\n",
      "    },\n",
      "    \"hits\": {\n",
      "        \"total\": {\n",
      "            \"value\": 283,\n",
      "            \"relation\": \"eq\"\n",
      "        },\n",
      "        \"max_score\": 1.0,\n",
      "        \"hits\": [\n",
      "            {\n",
      "                \"_index\": \"my_index\",\n",
      "                \"_type\": \"_doc\",\n",
      "                \"_id\": \"1\",\n",
      "                \"_score\": 1.0,\n",
      "                \"_source\": {\n",
      "                    \"ranking_date\": \"2024-10-23\",\n",
      "                    \"pilot_name\": \"Charles Leclerc\",\n",
      "                    \"position\": 1,\n",
      "                    \"pilot_review\": \"Charles Leclerc appeared to be slightly on the back foot in the Ferrari intra-team battle after Saturday\\u2019s action in Austin, having lost out to Carlos Sainz during the Sprint race and qualifying for the main event. However, the Monegasque came back fighting to brilliantly go from fourth to first at Turn 1 and then storm clear of the field. In Jenson Button\\u2019s words, Leclerc \\u201cput on a clinic\\u201d for his rivals. \",\n",
      "                    \"ranking_link\": \"https://www.formula1.com/en/latest/article/power-rankings-who-impressed-our-judges-across-a-pulsating-sprint-weekend-in.1MjyFCq7iA8lMqtvf9i4f3\"\n",
      "                }\n",
      "            }\n",
      "        ]\n",
      "    }\n",
      "}\n"
     ]
    }
   ],
   "source": [
    "res = es.search(index='my_index', body={\n",
    "     'query': {\n",
    "         'range': {\n",
    "             'position': {\n",
    "                 'gte': 1,\n",
    "                 'lte': 3\n",
    "             }\n",
    "         }\n",
    "     },\n",
    "     'size': 1\n",
    "})\n",
    "\n",
    "# print(json.dumps(res.body[\"hits\"][\"hits\"][0][\"_source\"], indent=4))\n",
    "print(json.dumps(res.body, indent=4))"
   ]
  }
 ],
 "metadata": {
  "kernelspec": {
   "display_name": "base",
   "language": "python",
   "name": "python3"
  },
  "language_info": {
   "codemirror_mode": {
    "name": "ipython",
    "version": 3
   },
   "file_extension": ".py",
   "mimetype": "text/x-python",
   "name": "python",
   "nbconvert_exporter": "python",
   "pygments_lexer": "ipython3",
   "version": "3.11.5"
  }
 },
 "nbformat": 4,
 "nbformat_minor": 5
}
