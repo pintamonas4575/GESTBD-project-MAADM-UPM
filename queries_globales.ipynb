{
 "cells": [
  {
   "cell_type": "markdown",
   "metadata": {},
   "source": [
    "Este notebook contiene las consultas enseñadas durante la presentación relaccionadas con las hipótesis formuladas.\n",
    "\n",
    "Enlace al repositorio completo: https://github.com/pintamonas4575/GESTBD-project-MAADM-UPM"
   ]
  },
  {
   "cell_type": "code",
   "execution_count": 1,
   "metadata": {},
   "outputs": [],
   "source": [
    "import json\n",
    "import pandas as pd\n",
    "from elasticsearch import Elasticsearch\n",
    "import mariadb\n",
    "from pyhive import hive\n",
    "from SPARQLWrapper import SPARQLWrapper, JSON\n",
    "from pyhive import hive"
   ]
  },
  {
   "cell_type": "markdown",
   "metadata": {},
   "source": [
    "# **1-GRAPHDB** Descubrimiento"
   ]
  },
  {
   "cell_type": "code",
   "execution_count": null,
   "metadata": {},
   "outputs": [
    {
     "data": {
      "text/plain": [
       "'localhost,hive'"
      ]
     },
     "execution_count": 19,
     "metadata": {},
     "output_type": "execute_result"
    }
   ],
   "source": [
    "# Configura la URL del endpoint SPARQL\n",
    "sparql = SPARQLWrapper(\"http://localhost:8000/repositories/GESTBD\")\n",
    "\n",
    "# Establece la consulta SPARQL para el descubrimiento de BBDD estrucuradas\n",
    "sparql.setQuery(\"\"\"\n",
    "select  ?endpoint\n",
    "WHERE{\n",
    "    ?instance <http://www.w3.org/1999/02/22-rdf-syntax-ns#type> <http://upm.es/ont/Relational_Database> .\n",
    "\t?instance <http://upm.es/ont/endpoint> ?endpoint .\n",
    "}\"\"\")\n",
    "sparql.setReturnFormat(JSON)\n",
    "\n",
    "# Ejecuta la consulta y muestra los resultados\n",
    "results = sparql.query().convert()\n",
    "\n",
    "for result in results[\"results\"][\"bindings\"]:\n",
    "    for key, value in result.items():\n",
    "        for key1, value1 in value.items():\n",
    "            if value1 != 'literal':\n",
    "                endpoint_rl=value1\n",
    "endpoint_rl"
   ]
  },
  {
   "cell_type": "code",
   "execution_count": null,
   "metadata": {},
   "outputs": [
    {
     "data": {
      "text/plain": [
       "['hive_constructors',\n",
       " 'name',\n",
       " 'hive_drivers',\n",
       " 'forename',\n",
       " 'hive_drivers',\n",
       " 'driverId',\n",
       " 'hive_drivers',\n",
       " 'number',\n",
       " 'hive_drivers',\n",
       " 'surname',\n",
       " 'hive_races',\n",
       " 'name',\n",
       " 'hive_races',\n",
       " 'year',\n",
       " 'hive_results',\n",
       " 'position']"
      ]
     },
     "execution_count": 69,
     "metadata": {},
     "output_type": "execute_result"
    }
   ],
   "source": [
    "# Establece la consulta SPARQL para el descubrimiento de tablas en BBDD estrucuradas\n",
    "sparql.setQuery(\"\"\"\n",
    "    select  ?index_name ?mapping_field\n",
    "WHERE{\n",
    "    ?instance <http://www.w3.org/1999/02/22-rdf-syntax-ns#type> <http://upm.es/ont/Relational_Database> .\n",
    "    ?instance <http://upm.es/ont/topic> \"F1\".\n",
    "\t?instance <http://upm.es/ont/contains_table> ?object .\n",
    "    ?object <http://upm.es/ont/contains_column> ?a.\n",
    "    ?object <http://upm.es/ont/name> ?index_name.\n",
    "    ?a <http://upm.es/ont/name> ?mapping_field.\n",
    "}\n",
    "\"\"\")\n",
    "\n",
    "# Especifica el formato de retorno (JSON)\n",
    "sparql.setReturnFormat(JSON)\n",
    "columns_rl=[]\n",
    "\n",
    "# Ejecuta la consulta y muestra los resultados\n",
    "results = sparql.query().convert()\n",
    "\n",
    "for result in results[\"results\"][\"bindings\"]:\n",
    "    for key, value in result.items():\n",
    "\n",
    "        for key1, value1 in value.items():\n",
    "            if value1 != 'literal':\n",
    "                columns_rl.append(value1) \n",
    "\n",
    "columns_rl\n"
   ]
  },
  {
   "cell_type": "code",
   "execution_count": null,
   "metadata": {},
   "outputs": [
    {
     "data": {
      "text/plain": [
       "'http://localhost:9200'"
      ]
     },
     "execution_count": 64,
     "metadata": {},
     "output_type": "execute_result"
    }
   ],
   "source": [
    "sparql.setQuery(\"\"\"\n",
    "select  ?endpoint \n",
    "WHERE{\n",
    "    ?instance <http://www.w3.org/1999/02/22-rdf-syntax-ns#type> <http://upm.es/ont/Elasticsearch_Database> .\n",
    "\t ?instance <http://upm.es/ont/endpoint> ?endpoint .\n",
    "}\"\"\")\n",
    "sparql.setReturnFormat(JSON)\n",
    "\n",
    "# Ejecuta la consulta y muestra los resultados\n",
    "results = sparql.query().convert()\n",
    "\n",
    "for result in results[\"results\"][\"bindings\"]:\n",
    "    for key, value in result.items():\n",
    "        for key1, value1 in value.items():\n",
    "            if value1 != 'literal':\n",
    "                endpoint_elastic=value1\n",
    "endpoint_elastic\n",
    "\n"
   ]
  },
  {
   "cell_type": "code",
   "execution_count": null,
   "metadata": {},
   "outputs": [
    {
     "data": {
      "text/plain": [
       "['my_index',\n",
       " 'mapping name',\n",
       " 'my_index',\n",
       " 'pilot_review',\n",
       " 'my_index',\n",
       " 'position',\n",
       " 'my_index',\n",
       " 'ranking_date']"
      ]
     },
     "execution_count": 20,
     "metadata": {},
     "output_type": "execute_result"
    }
   ],
   "source": [
    "# Establece la consulta SPARQL para el descubrimiento de la base de datos Elasticsearch\n",
    "sparql.setQuery(\"\"\"\n",
    "select  ?index_name ?mapping_field\n",
    "WHERE{\n",
    "    ?instance <http://www.w3.org/1999/02/22-rdf-syntax-ns#type> <http://upm.es/ont/Elasticsearch_Database>.\n",
    "    ?instance <http://upm.es/ont/topic> \"F1\".\n",
    "\t?instance <http://upm.es/ont/contains_index> ?object .\n",
    "    ?object <http://upm.es/ont/contains_mapping_field> ?a.\n",
    "    ?object <http://upm.es/ont/name> ?index_name.\n",
    "    ?a <http://upm.es/ont/name> ?mapping_field.\n",
    "}\"\"\")\n",
    "sparql.setReturnFormat(JSON)\n",
    "\n",
    "# Ejecuta la consulta y muestra los resultados\n",
    "results = sparql.query().convert()\n",
    "columns_elastic=[]\n",
    "for result in results[\"results\"][\"bindings\"]:\n",
    "    for key, value in result.items():\n",
    "        for key1, value1 in value.items():\n",
    "            if value1 != 'literal':\n",
    "                columns_elastic.append(value1) \n",
    "columns_elastic"
   ]
  },
  {
   "cell_type": "markdown",
   "metadata": {},
   "source": [
    "# **1º-Consulta**\n",
    "\n",
    "Vamos a sacar el piloto con mayor número de victorias en 2023, y de ahí su ranking medio"
   ]
  },
  {
   "cell_type": "code",
   "execution_count": null,
   "metadata": {},
   "outputs": [],
   "source": [
    "# Conexion a Hive\n",
    "conn = hive.Connection(host=\"localhost\", username=\"hive\", database=\"f1_hive\")\n",
    "cursor = conn.cursor()"
   ]
  },
  {
   "cell_type": "code",
   "execution_count": null,
   "metadata": {},
   "outputs": [
    {
     "name": "stdout",
     "output_type": "stream",
     "text": [
      "('Max', 'Verstappen', 19)\n",
      "Max Verstappen\n"
     ]
    }
   ],
   "source": [
    "# Consulta en Hive\n",
    "cursor.execute('''\n",
    "SELECT d.forename, d.surname , COUNT(*) AS victorias\n",
    "FROM hive_results r\n",
    "JOIN hive_races ra ON r.raceid = ra.raceid\n",
    "JOIN hive_drivers d ON r.driverid = d.driverid\n",
    "WHERE r.position = 1 AND ra.year = 2023\n",
    "GROUP BY d.forename, d.surname\n",
    "ORDER BY victorias DESC\n",
    "LIMIT 1\n",
    "''')\n",
    "results = cursor.fetchall()\n",
    "print(results[0])\n",
    "name_driver= results[0][0] +' '+ results[0][1]\n",
    "print(name_driver)\n",
    "cursor.close()\n",
    "conn.close()"
   ]
  },
  {
   "cell_type": "code",
   "execution_count": null,
   "metadata": {},
   "outputs": [
    {
     "name": "stdout",
     "output_type": "stream",
     "text": [
      "Posición media de Max Verstappen en el ranking en 2023: 1.826086956521739\n"
     ]
    }
   ],
   "source": [
    "es = Elasticsearch(\"http://localhost:9200\")\n",
    "# Consulta en Elasticsearch para obtener la posición media del piloto en 2023\n",
    "res = es.search(index='my_index', body={\n",
    "    \"size\": 0,\n",
    "    \"query\": {\n",
    "        \"bool\": {\n",
    "            \"must\": [\n",
    "                {\"term\": {\"pilot_name\": {\"value\": name_driver}}},\n",
    "                {\"range\": {\"ranking_date\": {\"gte\": \"2023-01-01\", \"lte\": \"2023-12-31\"}}}\n",
    "            ]\n",
    "        }\n",
    "    },\n",
    "    \"aggs\": {\n",
    "        \"posicion_media\": {\n",
    "            \"avg\": {\n",
    "                \"field\": \"position\"\n",
    "            }\n",
    "        }\n",
    "    }\n",
    "})\n",
    "\n",
    "# Procesa la respuesta de Elasticsearch\n",
    "if res.get(\"aggregations\"):\n",
    "    posicion_media = res[\"aggregations\"][\"posicion_media\"][\"value\"]\n",
    "    print(f\"Posición media de {name_driver} en el ranking en 2023: {posicion_media}\")\n",
    "else:\n",
    "    print(\"No se encontró información de posición media en Elasticsearch para este piloto en 2023.\")\n"
   ]
  },
  {
   "cell_type": "markdown",
   "metadata": {},
   "source": [
    "# **2º-Consulta**"
   ]
  },
  {
   "cell_type": "code",
   "execution_count": null,
   "metadata": {},
   "outputs": [],
   "source": [
    "es = Elasticsearch(\"http://localhost:9200\")\n",
    "# Consulta en Elasticsearch para obtener la posición de 'power ranking' más alta de Lance Stroll\n",
    "res = es.search(index='my_index', body={\n",
    "  'query': {\n",
    "    'bool': {\n",
    "      'must': [\n",
    "        { 'term': { 'pilot_name': 'Lance Stroll' } }\n",
    "      ],\n",
    "      \n",
    "    }\n",
    "  },\n",
    "'sort': [\n",
    "    { 'position': 'asc' }\n",
    "  ],\n",
    "  \"size\":1\n",
    "})\n",
    "position=res['hits']['hits'][0]['_source']['position']"
   ]
  },
  {
   "cell_type": "code",
   "execution_count": 106,
   "metadata": {},
   "outputs": [
    {
     "data": {
      "text/plain": [
       "4"
      ]
     },
     "execution_count": 106,
     "metadata": {},
     "output_type": "execute_result"
    }
   ],
   "source": [
    "position"
   ]
  },
  {
   "cell_type": "code",
   "execution_count": null,
   "metadata": {},
   "outputs": [
    {
     "name": "stdout",
     "output_type": "stream",
     "text": [
      "(3,)\n"
     ]
    }
   ],
   "source": [
    "# Cosulta en Hive para encontrar la posición más alta del piloto en una carrera\n",
    "conn = hive.Connection(host=\"localhost\", username=\"hive\", database=\"f1_hive\")\n",
    "cursor = conn.cursor()\n",
    "cursor.execute('''\n",
    "SELECT MIN(r.position)\n",
    "FROM hive_results r\n",
    "JOIN hive_drivers d ON r.driverId = d.driverId\n",
    "WHERE d.forename='Lance' and d.surname='Stroll' and r.position <> 0\n",
    "''')\n",
    "results = cursor.fetchall()\n",
    "print(results[0])\n",
    "cursor.close()\n",
    "conn.close()"
   ]
  },
  {
   "cell_type": "markdown",
   "metadata": {},
   "source": [
    "# 3ª Consulta"
   ]
  },
  {
   "cell_type": "code",
   "execution_count": null,
   "metadata": {},
   "outputs": [],
   "source": [
    "# Conexion a Hive\n",
    "conn = hive.Connection(host=\"localhost\", username=\"hive\", database=\"f1_hive\")\n",
    "cursor = conn.cursor()"
   ]
  },
  {
   "cell_type": "code",
   "execution_count": null,
   "metadata": {},
   "outputs": [
    {
     "name": "stdout",
     "output_type": "stream",
     "text": [
      "Alexander Albon 22\n",
      "Carlos Sainz 22\n",
      "Charles Leclerc 22\n",
      "Daniel Ricciardo 7\n",
      "Esteban Ocon 22\n",
      "Fernando Alonso 22\n",
      "George Russell 22\n",
      "Guanyu Zhou 22\n",
      "Kevin Magnussen 22\n",
      "Lance Stroll 22\n",
      "Lando Norris 22\n",
      "Lewis Hamilton 22\n",
      "Liam Lawson 5\n",
      "Logan Sargeant 22\n",
      "Max Verstappen 22\n",
      "Nico Hülkenberg 22\n",
      "Nyck de Vries 10\n",
      "Oscar Piastri 22\n",
      "Pierre Gasly 22\n",
      "Sergio Pérez 22\n",
      "Valtteri Bottas 22\n",
      "Yuki Tsunoda 22\n"
     ]
    }
   ],
   "source": [
    "# Número de carreras por conductor en 2023\n",
    "cursor.execute('''\n",
    "SELECT DISTINCT d.forename, d.surname, COUNT(DISTINCT r.raceid) AS num_carreras\n",
    "FROM hive_drivers d\n",
    "JOIN hive_results r ON d.driverid = r.driverid\n",
    "JOIN hive_races rs ON r.raceid = rs.raceid\n",
    "WHERE rs.year = 2023\n",
    "GROUP BY d.driverid, d.forename, d.surname\n",
    "''')\n",
    "results = cursor.fetchall()\n",
    "for driver in results:\n",
    "    print(f'{driver[0]} {driver[1]} {driver[2]}')\n",
    "cursor.close()\n",
    "conn.close()"
   ]
  },
  {
   "cell_type": "code",
   "execution_count": null,
   "metadata": {},
   "outputs": [
    {
     "name": "stdout",
     "output_type": "stream",
     "text": [
      "Palabras más comunes en las reviews de Alexander Albon durante la temporada 2023 (22 carreras participadas):\n",
      "\talbon, frecuencia: 16\n",
      "\twilliams, frecuencia: 14\n",
      "\tpoints, frecuencia: 13\n",
      "\t10, frecuencia: 9\n",
      "\tout, frecuencia: 9\n",
      "\trace, frecuencia: 9\n",
      "\tthai, frecuencia: 9\n",
      "\ttop, frecuencia: 9\n",
      "\tweekend, frecuencia: 9\n",
      "\tcar, frecuencia: 8\n",
      "--------------------------------------------------\n",
      "Palabras más comunes en las reviews de Carlos Sainz durante la temporada 2023 (22 carreras participadas):\n",
      "\tsainz, frecuencia: 11\n",
      "\trace, frecuencia: 8\n",
      "\tspaniard, frecuencia: 8\n",
      "\tweekend, frecuencia: 8\n",
      "\tstart, frecuencia: 7\n",
      "\tpace, frecuencia: 6\n",
      "\tpodium, frecuencia: 6\n",
      "\tsecond, frecuencia: 6\n",
      "\tsixth, frecuencia: 6\n",
      "\ttop, frecuencia: 6\n",
      "--------------------------------------------------\n",
      "Palabras más comunes en las reviews de Charles Leclerc durante la temporada 2023 (22 carreras participadas):\n",
      "\tleclerc, frecuencia: 16\n",
      "\tferrari, frecuencia: 13\n",
      "\trace, frecuencia: 13\n",
      "\tlap, frecuencia: 10\n",
      "\tone, frecuencia: 9\n",
      "\tsecond, frecuencia: 9\n",
      "\tout, frecuencia: 8\n",
      "\tpace, frecuencia: 8\n",
      "\tplace, frecuencia: 8\n",
      "\tpole, frecuencia: 8\n",
      "--------------------------------------------------\n",
      "Palabras más comunes en las reviews de Daniel Ricciardo durante la temporada 2023 (7 carreras participadas):\n",
      "\tcar, frecuencia: 2\n",
      "\thad, frecuencia: 2\n",
      "\tricciardo, frecuencia: 2\n",
      "\t1, frecuencia: 1\n",
      "\t13th, frecuencia: 1\n",
      "\t2022, frecuencia: 1\n",
      "\tabu, frecuencia: 1\n",
      "\taction, frecuencia: 1\n",
      "\tall, frecuencia: 1\n",
      "\tback, frecuencia: 1\n",
      "--------------------------------------------------\n",
      "Palabras más comunes en las reviews de Esteban Ocon durante la temporada 2023 (22 carreras participadas):\n",
      "\tocon, frecuencia: 11\n",
      "\tdriver, frecuencia: 9\n",
      "\trace, frecuencia: 8\n",
      "\talpine, frecuencia: 7\n",
      "\tfrench, frecuencia: 6\n",
      "\tup, frecuencia: 6\n",
      "\talso, frecuencia: 5\n",
      "\teighth, frecuencia: 5\n",
      "\tfirst, frecuencia: 5\n",
      "\tqualifying, frecuencia: 5\n",
      "--------------------------------------------------\n",
      "Palabras más comunes en las reviews de Fernando Alonso durante la temporada 2023 (22 carreras participadas):\n",
      "\talonso, frecuencia: 15\n",
      "\tpodium, frecuencia: 12\n",
      "\trace, frecuencia: 11\n",
      "\taston, frecuencia: 10\n",
      "\tmartin, frecuencia: 10\n",
      "\tspaniard, frecuencia: 9\n",
      "\tstart, frecuencia: 9\n",
      "\tplace, frecuencia: 7\n",
      "\tseason, frecuencia: 7\n",
      "\tfifth, frecuencia: 6\n",
      "--------------------------------------------------\n",
      "Palabras más comunes en las reviews de George Russell durante la temporada 2023 (22 carreras participadas):\n",
      "\trussell, frecuencia: 14\n",
      "\tmercedes, frecuencia: 9\n",
      "\tteam, frecuencia: 8\n",
      "\tweekend, frecuencia: 8\n",
      "\tfourth, frecuencia: 7\n",
      "\thad, frecuencia: 7\n",
      "\tout, frecuencia: 7\n",
      "\trace, frecuencia: 7\n",
      "\tstill, frecuencia: 7\n",
      "\twhile, frecuencia: 7\n",
      "--------------------------------------------------\n",
      "Palabras más comunes en las reviews de Guanyu Zhou durante la temporada 2023 (22 carreras participadas):\n",
      "\t10, frecuencia: 2\n",
      "\tdriver, frecuencia: 2\n",
      "\tfield, frecuencia: 2\n",
      "\tonly, frecuencia: 2\n",
      "\tpoints, frecuencia: 2\n",
      "\tscoring, frecuencia: 2\n",
      "\tstarting, frecuencia: 2\n",
      "\ttop, frecuencia: 2\n",
      "\tzhou’s, frecuencia: 2\n",
      "\t13th, frecuencia: 1\n",
      "--------------------------------------------------\n",
      "Palabras más comunes en las reviews de Kevin Magnussen durante la temporada 2023 (22 carreras participadas):\n",
      "\tdane, frecuencia: 3\n",
      "\thaas, frecuencia: 3\n",
      "\tlap, frecuencia: 3\n",
      "\t10th, frecuencia: 2\n",
      "\tbattle, frecuencia: 2\n",
      "\tcharles, frecuencia: 2\n",
      "\tembroiled, frecuencia: 2\n",
      "\tfirst, frecuencia: 2\n",
      "\thamilton, frecuencia: 2\n",
      "\tleclerc, frecuencia: 2\n",
      "--------------------------------------------------\n",
      "Palabras más comunes en las reviews de Lance Stroll durante la temporada 2023 (22 carreras participadas):\n",
      "\taston, frecuencia: 6\n",
      "\tmartin, frecuencia: 6\n",
      "\tweekend, frecuencia: 6\n",
      "\tcanadian, frecuencia: 5\n",
      "\tplace, frecuencia: 5\n",
      "\trace, frecuencia: 5\n",
      "\tstroll, frecuencia: 5\n",
      "\tback, frecuencia: 3\n",
      "\tform, frecuencia: 3\n",
      "\thad, frecuencia: 3\n",
      "--------------------------------------------------\n",
      "Palabras más comunes en las reviews de Lando Norris durante la temporada 2023 (22 carreras participadas):\n",
      "\tnorris, frecuencia: 17\n",
      "\trace, frecuencia: 12\n",
      "\tup, frecuencia: 11\n",
      "\tmclaren, frecuencia: 10\n",
      "\tsecond, frecuencia: 10\n",
      "\tstart, frecuencia: 10\n",
      "\tsunday, frecuencia: 9\n",
      "\tout, frecuencia: 8\n",
      "\tplace, frecuencia: 8\n",
      "\tweekend, frecuencia: 8\n",
      "--------------------------------------------------\n",
      "Palabras más comunes en las reviews de Lewis Hamilton durante la temporada 2023 (22 carreras participadas):\n",
      "\thamilton, frecuencia: 19\n",
      "\tplace, frecuencia: 10\n",
      "\trace, frecuencia: 10\n",
      "\tstart, frecuencia: 10\n",
      "\tweekend, frecuencia: 10\n",
      "\tfifth, frecuencia: 9\n",
      "\tup, frecuencia: 9\n",
      "\tpace, frecuencia: 8\n",
      "\tsecond, frecuencia: 8\n",
      "\tsome, frecuencia: 8\n",
      "--------------------------------------------------\n",
      "Palabras más comunes en las reviews de Liam Lawson durante la temporada 2023 (5 carreras participadas):\n",
      "\talphatauri, frecuencia: 2\n",
      "\tplace, frecuencia: 2\n",
      "\tq3, frecuencia: 2\n",
      "\tstart, frecuencia: 2\n",
      "\tup, frecuencia: 2\n",
      "\tweekend, frecuencia: 2\n",
      "\t10, frecuencia: 1\n",
      "\t10th, frecuencia: 1\n",
      "\t11th, frecuencia: 1\n",
      "\t12th, frecuencia: 1\n",
      "--------------------------------------------------\n",
      "Palabras más comunes en las reviews de Logan Sargeant durante la temporada 2023 (22 carreras participadas):\n",
      "\tpoints, frecuencia: 4\n",
      "\trookie, frecuencia: 3\n",
      "\t10, frecuencia: 2\n",
      "\t16th, frecuencia: 2\n",
      "\thad, frecuencia: 2\n",
      "\thowever, frecuencia: 2\n",
      "\timpressive, frecuencia: 2\n",
      "\tq3, frecuencia: 2\n",
      "\trace, frecuencia: 2\n",
      "\tsargeant, frecuencia: 2\n",
      "--------------------------------------------------\n",
      "Palabras más comunes en las reviews de Max Verstappen durante la temporada 2023 (22 carreras participadas):\n",
      "\tverstappen, frecuencia: 21\n",
      "\twin, frecuencia: 14\n",
      "\tpole, frecuencia: 13\n",
      "\trace, frecuencia: 13\n",
      "\tweekend, frecuencia: 13\n",
      "\tway, frecuencia: 11\n",
      "\tvictory, frecuencia: 10\n",
      "\tanother, frecuencia: 9\n",
      "\tcontinues, frecuencia: 9\n",
      "\tdominant, frecuencia: 9\n",
      "--------------------------------------------------\n",
      "Palabras más comunes en las reviews de Nico Hülkenberg durante la temporada 2023 (22 carreras participadas):\n",
      "\thulkenberg, frecuencia: 3\n",
      "\t12th, frecuencia: 2\n",
      "\teighth, frecuencia: 2\n",
      "\tfinishing, frecuencia: 2\n",
      "\tgerman, frecuencia: 2\n",
      "\thaas, frecuencia: 2\n",
      "\thard, frecuencia: 2\n",
      "\tlap, frecuencia: 2\n",
      "\tonce, frecuencia: 2\n",
      "\tqualifying, frecuencia: 2\n",
      "--------------------------------------------------\n",
      "Palabras más comunes en las reviews de Nyck de Vries durante la temporada 2023 (10 carreras participadas):\n",
      "--------------------------------------------------\n",
      "Palabras más comunes en las reviews de Oscar Piastri durante la temporada 2023 (22 carreras participadas):\n",
      "\tout, frecuencia: 10\n",
      "\tpiastri, frecuencia: 9\n",
      "\trookie, frecuencia: 9\n",
      "\tstart, frecuencia: 8\n",
      "\tweekend, frecuencia: 8\n",
      "\trace, frecuencia: 7\n",
      "\tup, frecuencia: 7\n",
      "\tmclaren, frecuencia: 6\n",
      "\tnorris, frecuencia: 6\n",
      "\tone, frecuencia: 6\n",
      "--------------------------------------------------\n",
      "Palabras más comunes en las reviews de Pierre Gasly durante la temporada 2023 (22 carreras participadas):\n",
      "\tgasly, frecuencia: 15\n",
      "\talpine, frecuencia: 11\n",
      "\tplace, frecuencia: 10\n",
      "\tqualifying, frecuencia: 8\n",
      "\trace, frecuencia: 8\n",
      "\tdriver, frecuencia: 7\n",
      "\tfrench, frecuencia: 7\n",
      "\tmore, frecuencia: 6\n",
      "\tpace, frecuencia: 6\n",
      "\tstart, frecuencia: 6\n",
      "--------------------------------------------------\n",
      "Palabras más comunes en las reviews de Sergio Pérez durante la temporada 2023 (22 carreras participadas):\n",
      "\tperez, frecuencia: 9\n",
      "\tbull, frecuencia: 7\n",
      "\tred, frecuencia: 7\n",
      "\tup, frecuencia: 7\n",
      "\tweekend, frecuencia: 7\n",
      "\tout, frecuencia: 6\n",
      "\tsecond, frecuencia: 6\n",
      "\tsunday, frecuencia: 6\n",
      "\tback, frecuencia: 5\n",
      "\tfinish, frecuencia: 5\n",
      "--------------------------------------------------\n",
      "Palabras más comunes en las reviews de Valtteri Bottas durante la temporada 2023 (22 carreras participadas):\n",
      "\t10, frecuencia: 3\n",
      "\tbottas, frecuencia: 3\n",
      "\tfinn, frecuencia: 3\n",
      "\tsince, frecuencia: 3\n",
      "\tstart, frecuencia: 3\n",
      "\ttop, frecuencia: 3\n",
      "\twhere, frecuencia: 3\n",
      "\twho, frecuencia: 3\n",
      "\t10th, frecuencia: 2\n",
      "\talfa, frecuencia: 2\n",
      "--------------------------------------------------\n",
      "Palabras más comunes en las reviews de Yuki Tsunoda durante la temporada 2023 (22 carreras participadas):\n",
      "\ttsunoda, frecuencia: 11\n",
      "\tpoints, frecuencia: 8\n",
      "\tseason, frecuencia: 8\n",
      "\talphatauri, frecuencia: 7\n",
      "\ttop, frecuencia: 7\n",
      "\t10, frecuencia: 6\n",
      "\tjapanese, frecuencia: 6\n",
      "\tout, frecuencia: 6\n",
      "\trace, frecuencia: 6\n",
      "\tracer, frecuencia: 6\n",
      "--------------------------------------------------\n"
     ]
    }
   ],
   "source": [
    "es = Elasticsearch(\"http://localhost:9200\")\n",
    "# Palabras más comunes en las reviews de un piloto durante 2023\n",
    "for driver in results:\n",
    "\n",
    "    print(f\"Palabras más comunes en las reviews de {driver[0]} {driver[1]} durante la temporada 2023 ({driver[2]} carreras participadas):\")\n",
    "    res = es.search(index='my_index', body={\n",
    "        \"size\": 0,  # No necesitamos los documentos, solo las agregaciones\n",
    "        'query': {\n",
    "             \"bool\": {\n",
    "                \"should\": [\n",
    "                    {\"wildcard\": {\"pilot_name\": f\"*{driver[0]}*\"}},  # Busca si pilot_name contiene driver[0]\n",
    "                    {\"wildcard\": {\"pilot_name\": f\"*{driver[1]}*\"}}   # Busca si pilot_name contiene driver[1]\n",
    "                ],\n",
    "                \"minimum_should_match\": 1,  # Esto garantiza que al menos una de las condiciones se cumpla\n",
    "                \"must\": [\n",
    "                    {\"range\": {\"ranking_date\": {\"gte\": \"2023-01-01\", \"lte\": \"2023-12-31\"}}}\n",
    "                ]\n",
    "            }\n",
    "        },\n",
    "        \"aggs\": {\n",
    "            \"keywords\": {\n",
    "                \"terms\": {\n",
    "                    \"field\": \"pilot_review\",  \n",
    "                    \"size\": 10  # Número de palabras comunes a devolver\n",
    "                }\n",
    "            }\n",
    "        }\n",
    "    })\n",
    "\n",
    "    for bucket in res['aggregations']['keywords']['buckets']:\n",
    "        print(f\"\\t{bucket['key']}, frecuencia: {bucket['doc_count']}\")\n",
    "\n",
    "    print(\"-\"*50)"
   ]
  },
  {
   "cell_type": "code",
   "execution_count": 63,
   "metadata": {},
   "outputs": [],
   "source": [
    "es.close()"
   ]
  }
 ],
 "metadata": {
  "kernelspec": {
   "display_name": ".venv",
   "language": "python",
   "name": "python3"
  },
  "language_info": {
   "codemirror_mode": {
    "name": "ipython",
    "version": 3
   },
   "file_extension": ".py",
   "mimetype": "text/x-python",
   "name": "python",
   "nbconvert_exporter": "python",
   "pygments_lexer": "ipython3",
   "version": "3.10.11"
  }
 },
 "nbformat": 4,
 "nbformat_minor": 2
}
