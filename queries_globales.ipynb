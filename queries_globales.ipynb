{
 "cells": [
  {
   "cell_type": "code",
   "execution_count": 17,
   "metadata": {},
   "outputs": [],
   "source": [
    "import json\n",
    "import pandas as pd\n",
    "from elasticsearch import Elasticsearch\n",
    "import mariadb\n",
    "from pyhive import hive\n",
    "from SPARQLWrapper import SPARQLWrapper, JSON\n",
    "from pyhive import hive"
   ]
  },
  {
   "cell_type": "markdown",
   "metadata": {},
   "source": [
    "# **1-GRAPHDB** Descubrimiento"
   ]
  },
  {
   "cell_type": "code",
   "execution_count": null,
   "metadata": {},
   "outputs": [
    {
     "data": {
      "text/plain": [
       "'localhost,hive'"
      ]
     },
     "execution_count": 19,
     "metadata": {},
     "output_type": "execute_result"
    }
   ],
   "source": [
    "# Set up the SPARQL endpoint URL\n",
    "sparql = SPARQLWrapper(\"http://localhost:8000/repositories/GESTBD\")\n",
    "\n",
    "sparql.setQuery(\"\"\"\n",
    "select  ?endpoint\n",
    "WHERE{\n",
    "    ?instance <http://www.w3.org/1999/02/22-rdf-syntax-ns#type> <http://upm.es/ont/Relational_Database> .\n",
    "\t?instance <http://upm.es/ont/endpoint> ?endpoint .\n",
    "}\"\"\")\n",
    "sparql.setReturnFormat(JSON)\n",
    "\n",
    "# Execute the query and print results\n",
    "results = sparql.query().convert()\n",
    "\n",
    "for result in results[\"results\"][\"bindings\"]:\n",
    "    for key, value in result.items():\n",
    "        for key1, value1 in value.items():\n",
    "            if value1 != 'literal':\n",
    "                endpoint_rl=value1\n",
    "endpoint_rl"
   ]
  },
  {
   "cell_type": "code",
   "execution_count": null,
   "metadata": {},
   "outputs": [
    {
     "data": {
      "text/plain": [
       "['hive_constructors',\n",
       " 'name',\n",
       " 'hive_drivers',\n",
       " 'forename',\n",
       " 'hive_drivers',\n",
       " 'driverId',\n",
       " 'hive_drivers',\n",
       " 'number',\n",
       " 'hive_drivers',\n",
       " 'surname',\n",
       " 'hive_races',\n",
       " 'name',\n",
       " 'hive_races',\n",
       " 'year',\n",
       " 'hive_results',\n",
       " 'position']"
      ]
     },
     "execution_count": 69,
     "metadata": {},
     "output_type": "execute_result"
    }
   ],
   "source": [
    "sparql.setQuery(\"\"\"\n",
    "    select  ?index_name ?mapping_field\n",
    "WHERE{\n",
    "    ?instance <http://www.w3.org/1999/02/22-rdf-syntax-ns#type> <http://upm.es/ont/Relational_Database> .\n",
    "    ?instance <http://upm.es/ont/topic> \"F1\".\n",
    "\t?instance <http://upm.es/ont/contains_table> ?object .\n",
    "    ?object <http://upm.es/ont/contains_column> ?a.\n",
    "    ?object <http://upm.es/ont/name> ?index_name.\n",
    "    ?a <http://upm.es/ont/name> ?mapping_field.\n",
    "}\n",
    "\"\"\")\n",
    "\n",
    "# Specify the return format (JSON)\n",
    "sparql.setReturnFormat(JSON)\n",
    "columns_rl=[]\n",
    "# Execute the query and print results\n",
    "results = sparql.query().convert()\n",
    "\n",
    "for result in results[\"results\"][\"bindings\"]:\n",
    "    for key, value in result.items():\n",
    "\n",
    "        for key1, value1 in value.items():\n",
    "            if value1 != 'literal':\n",
    "                columns_rl.append(value1) \n",
    "\n",
    "columns_rl\n"
   ]
  },
  {
   "cell_type": "code",
   "execution_count": 64,
   "metadata": {},
   "outputs": [
    {
     "data": {
      "text/plain": [
       "'http://localhost:9200'"
      ]
     },
     "execution_count": 64,
     "metadata": {},
     "output_type": "execute_result"
    }
   ],
   "source": [
    "sparql.setQuery(\"\"\"\n",
    "select  ?endpoint \n",
    "WHERE{\n",
    "    ?instance <http://www.w3.org/1999/02/22-rdf-syntax-ns#type> <http://upm.es/ont/Elasticsearch_Database> .\n",
    "\t ?instance <http://upm.es/ont/endpoint> ?endpoint .\n",
    "}\"\"\")\n",
    "sparql.setReturnFormat(JSON)\n",
    "\n",
    "# Execute the query and print results\n",
    "results = sparql.query().convert()\n",
    "\n",
    "for result in results[\"results\"][\"bindings\"]:\n",
    "    for key, value in result.items():\n",
    "        for key1, value1 in value.items():\n",
    "            if value1 != 'literal':\n",
    "                endpoint_elastic=value1\n",
    "endpoint_elastic\n",
    "\n"
   ]
  },
  {
   "cell_type": "code",
   "execution_count": null,
   "metadata": {},
   "outputs": [
    {
     "data": {
      "text/plain": [
       "['my_index',\n",
       " 'mapping name',\n",
       " 'my_index',\n",
       " 'pilot_review',\n",
       " 'my_index',\n",
       " 'position',\n",
       " 'my_index',\n",
       " 'ranking_date']"
      ]
     },
     "execution_count": 20,
     "metadata": {},
     "output_type": "execute_result"
    }
   ],
   "source": [
    "sparql.setQuery(\"\"\"\n",
    "select  ?index_name ?mapping_field\n",
    "WHERE{\n",
    "    ?instance <http://www.w3.org/1999/02/22-rdf-syntax-ns#type> <http://upm.es/ont/Elasticsearch_Database>.\n",
    "    ?instance <http://upm.es/ont/topic> \"F1\".\n",
    "\t?instance <http://upm.es/ont/contains_index> ?object .\n",
    "    ?object <http://upm.es/ont/contains_mapping_field> ?a.\n",
    "    ?object <http://upm.es/ont/name> ?index_name.\n",
    "    ?a <http://upm.es/ont/name> ?mapping_field.\n",
    "}\"\"\")\n",
    "sparql.setReturnFormat(JSON)\n",
    "\n",
    "# Execute the query and print results\n",
    "results = sparql.query().convert()\n",
    "columns_elastic=[]\n",
    "for result in results[\"results\"][\"bindings\"]:\n",
    "    for key, value in result.items():\n",
    "        for key1, value1 in value.items():\n",
    "            if value1 != 'literal':\n",
    "                columns_elastic.append(value1) \n",
    "columns_elastic"
   ]
  },
  {
   "cell_type": "markdown",
   "metadata": {},
   "source": [
    "# **1º-Consulta**\n",
    "\n",
    "Vamos a sacar el piloto con mayor número de victorias en 2023, y de ahí su ranking medio"
   ]
  },
  {
   "cell_type": "code",
   "execution_count": 3,
   "metadata": {},
   "outputs": [],
   "source": [
    "#Uses Postgres and MariaDB \n",
    "conn = hive.Connection(host=\"localhost\", username=\"hive\", database=\"f1_hive\")\n",
    "cursor = conn.cursor()"
   ]
  },
  {
   "cell_type": "code",
   "execution_count": null,
   "metadata": {},
   "outputs": [
    {
     "name": "stdout",
     "output_type": "stream",
     "text": [
      "('Max', 'Verstappen', 19)\n",
      "Max Verstappen\n"
     ]
    }
   ],
   "source": [
    "cursor.execute('''\n",
    "SELECT d.forename, d.surname , COUNT(*) AS victorias\n",
    "FROM hive_results r\n",
    "JOIN hive_races ra ON r.raceid = ra.raceid\n",
    "JOIN hive_drivers d ON r.driverid = d.driverid\n",
    "WHERE r.position = 1 AND ra.year = 2023\n",
    "GROUP BY d.forename, d.surname\n",
    "ORDER BY victorias DESC\n",
    "LIMIT 1\n",
    "''')\n",
    "results = cursor.fetchall()\n",
    "print(results[0])\n",
    "name_driver= results[0][0] +' '+ results[0][1]\n",
    "print(name_driver)\n",
    "cursor.close()\n",
    "conn.close()"
   ]
  },
  {
   "cell_type": "code",
   "execution_count": null,
   "metadata": {},
   "outputs": [
    {
     "name": "stdout",
     "output_type": "stream",
     "text": [
      "Posición media de Max Verstappen en el ranking en 2023: 4.5\n"
     ]
    }
   ],
   "source": [
    "es = Elasticsearch(\"http://localhost:9200\")\n",
    "# Consulta en Elasticsearch para obtener la posición media del piloto en 2023\n",
    "res = es.search(index='my_index', body={\n",
    "    \"size\": 0,\n",
    "    \"query\": {\n",
    "        \"bool\": {\n",
    "            \"must\": [\n",
    "                {\"term\": {\"pilot_name\": {\"value\": name_driver}}},\n",
    "                {\"range\": {\"ranking_date\": {\"gte\": \"2023-01-01\", \"lte\": \"2023-12-31\"}}}\n",
    "            ]\n",
    "        }\n",
    "    },\n",
    "    \"aggs\": {\n",
    "        \"posicion_media\": {\n",
    "            \"avg\": {\n",
    "                \"field\": \"position\"\n",
    "            }\n",
    "        }\n",
    "    }\n",
    "})\n",
    "\n",
    "# Procesa la respuesta de Elasticsearch\n",
    "if res.get(\"aggregations\"):\n",
    "    posicion_media = res[\"aggregations\"][\"posicion_media\"][\"value\"]\n",
    "    print(f\"Posición media de {name_driver} en el ranking en 2023: {posicion_media}\")\n",
    "else:\n",
    "    print(\"No se encontró información de posición media en Elasticsearch para este piloto en 2023.\")\n"
   ]
  },
  {
   "cell_type": "markdown",
   "metadata": {},
   "source": [
    "# **2º-Consulta**"
   ]
  },
  {
   "cell_type": "markdown",
   "metadata": {},
   "source": [
    "# **2-ELASTICSEARCH**"
   ]
  },
  {
   "cell_type": "code",
   "execution_count": 98,
   "metadata": {},
   "outputs": [],
   "source": [
    "es = Elasticsearch(\"http://localhost:9200\")\n",
    "res = es.search(index='my_index', body={\n",
    "  'query': {\n",
    "    'bool': {\n",
    "      'must': [\n",
    "        { 'term': { 'pilot_name': 'Lance Stroll' } }\n",
    "      ],\n",
    "      \n",
    "    }\n",
    "  },\n",
    "'sort': [\n",
    "    { 'position': 'asc' }  # Ordena por 'score' de mayor a menor\n",
    "  ],\n",
    "  \"size\":1\n",
    "})\n",
    "position=res['hits']['hits'][0]['_source']['position']"
   ]
  },
  {
   "cell_type": "code",
   "execution_count": 106,
   "metadata": {},
   "outputs": [
    {
     "data": {
      "text/plain": [
       "4"
      ]
     },
     "execution_count": 106,
     "metadata": {},
     "output_type": "execute_result"
    }
   ],
   "source": [
    "position"
   ]
  },
  {
   "cell_type": "code",
   "execution_count": 16,
   "metadata": {},
   "outputs": [
    {
     "name": "stdout",
     "output_type": "stream",
     "text": [
      "(3,)\n"
     ]
    }
   ],
   "source": [
    "conn = hive.Connection(host=\"localhost\", username=\"hive\", database=\"f1_hive\")\n",
    "cursor = conn.cursor()\n",
    "cursor.execute('''\n",
    "SELECT MIN(r.position)\n",
    "FROM hive_results r\n",
    "JOIN hive_drivers d ON r.driverId = d.driverId\n",
    "WHERE d.forename='Lance' and d.surname='Stroll' and r.position <> 0\n",
    "''')\n",
    "results = cursor.fetchall()\n",
    "print(results[0])\n",
    "cursor.close()\n",
    "conn.close()"
   ]
  }
 ],
 "metadata": {
  "kernelspec": {
   "display_name": ".venv",
   "language": "python",
   "name": "python3"
  },
  "language_info": {
   "codemirror_mode": {
    "name": "ipython",
    "version": 3
   },
   "file_extension": ".py",
   "mimetype": "text/x-python",
   "name": "python",
   "nbconvert_exporter": "python",
   "pygments_lexer": "ipython3",
   "version": "3.10.11"
  }
 },
 "nbformat": 4,
 "nbformat_minor": 2
}
