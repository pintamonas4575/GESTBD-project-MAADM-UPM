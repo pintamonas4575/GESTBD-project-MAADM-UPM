{
 "cells": [
  {
   "cell_type": "code",
   "execution_count": 2,
   "metadata": {},
   "outputs": [],
   "source": [
    "import json\n",
    "import pandas as pd\n",
    "from elasticsearch import Elasticsearch\n",
    "import mariadb\n",
    "from pyhive import hive"
   ]
  },
  {
   "cell_type": "markdown",
   "metadata": {},
   "source": [
    "# **1-HIVE**\n",
    "\n",
    "Vamos a sacar todas las victorias de Fernando Alonso, y deberia de devolvernos 32 resultados."
   ]
  },
  {
   "cell_type": "code",
   "execution_count": 3,
   "metadata": {},
   "outputs": [],
   "source": [
    "conn = hive.Connection(host=\"localhost\", username=\"hive\", database=\"f1_hive\")\n",
    "cursor = conn.cursor()"
   ]
  },
  {
   "cell_type": "code",
   "execution_count": 4,
   "metadata": {},
   "outputs": [
    {
     "name": "stdout",
     "output_type": "stream",
     "text": [
      "[('\"Singapore Grand Prix\"', 2008), ('\"Japanese Grand Prix\"', 2008), ('\"Malaysian Grand Prix\"', 2007), ('\"Monaco Grand Prix\"', 2007), ('\"European Grand Prix\"', 2007), ('\"Italian Grand Prix\"', 2007), ('\"Bahrain Grand Prix\"', 2006), ('\"Australian Grand Prix\"', 2006), ('\"Spanish Grand Prix\"', 2006), ('\"Monaco Grand Prix\"', 2006), ('\"British Grand Prix\"', 2006), ('\"Canadian Grand Prix\"', 2006), ('\"Japanese Grand Prix\"', 2006), ('\"Malaysian Grand Prix\"', 2005), ('\"Bahrain Grand Prix\"', 2005), ('\"San Marino Grand Prix\"', 2005), ('\"European Grand Prix\"', 2005), ('\"French Grand Prix\"', 2005), ('\"German Grand Prix\"', 2005), ('\"Chinese Grand Prix\"', 2005), ('\"Hungarian Grand Prix\"', 2003), ('\"Bahrain Grand Prix\"', 2010), ('\"German Grand Prix\"', 2010), ('\"Italian Grand Prix\"', 2010), ('\"Singapore Grand Prix\"', 2010), ('\"Korean Grand Prix\"', 2010), ('\"British Grand Prix\"', 2011), ('\"Malaysian Grand Prix\"', 2012), ('\"European Grand Prix\"', 2012), ('\"German Grand Prix\"', 2012), ('\"Chinese Grand Prix\"', 2013), ('\"Spanish Grand Prix\"', 2013)]\n",
      "32\n"
     ]
    }
   ],
   "source": [
    "cursor.execute('''\n",
    "SELECT rs.name, rs.year\n",
    "FROM hive_results r\n",
    "JOIN hive_drivers d ON r.driverid = d.driverid\n",
    "JOIN hive_races rs ON r.raceid = rs.raceid\n",
    "WHERE d.driverref = 'alonso'\n",
    "  AND r.position = 1\n",
    "               ''')\n",
    "\n",
    "results = cursor.fetchall()\n",
    "print(results)\n",
    "print(len(results))"
   ]
  },
  {
   "cell_type": "code",
   "execution_count": 5,
   "metadata": {},
   "outputs": [],
   "source": [
    "cursor.close()\n",
    "conn.close()"
   ]
  },
  {
   "cell_type": "markdown",
   "metadata": {},
   "source": [
    "# **2-ELASTICSEARCH**"
   ]
  },
  {
   "cell_type": "code",
   "execution_count": null,
   "metadata": {},
   "outputs": [],
   "source": [
    "es = Elasticsearch(\"http://localhost:9200\")\n",
    "\n",
    "res = es.search(index='my_index', body={\n",
    "     'query': {\n",
    "         'range': {\n",
    "             'position': {\n",
    "                 'gte': 1,\n",
    "                 'lte': 3\n",
    "             }\n",
    "         }\n",
    "     },\n",
    "     'size': 1\n",
    "})"
   ]
  },
  {
   "cell_type": "markdown",
   "metadata": {},
   "source": [
    "# **3-GRAPHDB**"
   ]
  },
  {
   "cell_type": "code",
   "execution_count": null,
   "metadata": {},
   "outputs": [],
   "source": []
  }
 ],
 "metadata": {
  "kernelspec": {
   "display_name": ".venv",
   "language": "python",
   "name": "python3"
  },
  "language_info": {
   "codemirror_mode": {
    "name": "ipython",
    "version": 3
   },
   "file_extension": ".py",
   "mimetype": "text/x-python",
   "name": "python",
   "nbconvert_exporter": "python",
   "pygments_lexer": "ipython3",
   "version": "3.10.11"
  }
 },
 "nbformat": 4,
 "nbformat_minor": 2
}
